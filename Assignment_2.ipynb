{
 "cells": [
  {
   "cell_type": "markdown",
   "id": "4ccc2499",
   "metadata": {},
   "source": [
    "# String Based Questions"
   ]
  },
  {
   "cell_type": "markdown",
   "id": "cd67210a",
   "metadata": {},
   "source": [
    "1. Write a program to reverse a string"
   ]
  },
  {
   "cell_type": "code",
   "execution_count": 1,
   "id": "84af49d1",
   "metadata": {},
   "outputs": [
    {
     "name": "stdout",
     "output_type": "stream",
     "text": [
      "Enter a stringCharan\n",
      "The Reverese string is narahC\n"
     ]
    }
   ],
   "source": [
    "a=input(\"Enter a string\")\n",
    "b=a[::-1]\n",
    "print(\"The Reverese string is\",b)"
   ]
  },
  {
   "cell_type": "markdown",
   "id": "ff439b23",
   "metadata": {},
   "source": [
    "2. Check if a string is a palindrome."
   ]
  },
  {
   "cell_type": "code",
   "execution_count": 2,
   "id": "42eb71a5",
   "metadata": {},
   "outputs": [
    {
     "name": "stdout",
     "output_type": "stream",
     "text": [
      "Enter a stringmadam\n",
      "Given string is palindrome\n"
     ]
    }
   ],
   "source": [
    "a=input(\"Enter a string\")\n",
    "b=a[::-1]\n",
    "if a==b:\n",
    "    print(\"Given string is palindrome\")\n",
    "else:\n",
    "    print(\"Not a palindrome\")"
   ]
  },
  {
   "cell_type": "markdown",
   "id": "02a01ec6",
   "metadata": {},
   "source": [
    "3. Convert a string to uppercase."
   ]
  },
  {
   "cell_type": "code",
   "execution_count": 3,
   "id": "e7ba3f3e",
   "metadata": {},
   "outputs": [
    {
     "name": "stdout",
     "output_type": "stream",
     "text": [
      "Enter a stringsaicharan\n"
     ]
    },
    {
     "data": {
      "text/plain": [
       "'SAICHARAN'"
      ]
     },
     "execution_count": 3,
     "metadata": {},
     "output_type": "execute_result"
    }
   ],
   "source": [
    "a=input(\"Enter a string\")\n",
    "a.upper()"
   ]
  },
  {
   "cell_type": "markdown",
   "id": "b781aa6b",
   "metadata": {},
   "source": [
    "4. Convert a string to lowercase."
   ]
  },
  {
   "cell_type": "code",
   "execution_count": 4,
   "id": "f8004745",
   "metadata": {},
   "outputs": [
    {
     "name": "stdout",
     "output_type": "stream",
     "text": [
      "Enter the stringSAI CHARAN\n"
     ]
    },
    {
     "data": {
      "text/plain": [
       "'sai charan'"
      ]
     },
     "execution_count": 4,
     "metadata": {},
     "output_type": "execute_result"
    }
   ],
   "source": [
    "a=input(\"Enter the string\")\n",
    "a.lower()"
   ]
  },
  {
   "cell_type": "markdown",
   "id": "63ac939b",
   "metadata": {},
   "source": [
    "5. Count the number of vowels in a string."
   ]
  },
  {
   "cell_type": "code",
   "execution_count": 16,
   "id": "35b5efcf",
   "metadata": {},
   "outputs": [
    {
     "name": "stdout",
     "output_type": "stream",
     "text": [
      "Enter the stringSAI charan\n",
      "the no of vowels are 4\n"
     ]
    }
   ],
   "source": [
    "str=input(\"Enter the string\")\n",
    "vowels=0\n",
    "for i in str:\n",
    "    if i=='a'or i=='e' or i=='i' or i=='o' or i=='u' or i=='A' or i=='E' or i=='I' or i=='O' or i=='U':\n",
    "        vowels=vowels+1\n",
    "print(\"the no of vowels are\",vowels)"
   ]
  },
  {
   "cell_type": "markdown",
   "id": "2c9bfc5f",
   "metadata": {},
   "source": [
    "6. Count the number of consonants in a string"
   ]
  },
  {
   "cell_type": "code",
   "execution_count": 18,
   "id": "9a15739e",
   "metadata": {},
   "outputs": [
    {
     "name": "stdout",
     "output_type": "stream",
     "text": [
      "Enter the stringSAichaRAn\n",
      "the no of consonants are 5\n"
     ]
    }
   ],
   "source": [
    "str=input(\"Enter the string\")\n",
    "vowels=0\n",
    "consonants=0\n",
    "for i in str:\n",
    "    if i=='a'or i=='e' or i=='i' or i=='o' or i=='u' or i=='A' or i=='E' or i=='I' or i=='O' or i=='U':\n",
    "        vowels=vowels+1\n",
    "    else:\n",
    "        consonants=consonants+1\n",
    "print(\"the no of consonants are\",consonants)"
   ]
  },
  {
   "cell_type": "markdown",
   "id": "15d7a72c",
   "metadata": {},
   "source": [
    "7. Remove all whitespaces from a string.\n"
   ]
  },
  {
   "cell_type": "code",
   "execution_count": 20,
   "id": "7f0252e0",
   "metadata": {},
   "outputs": [
    {
     "name": "stdout",
     "output_type": "stream",
     "text": [
      "Enter the string\"  c h a r a n\"\n",
      "\"charan\"\n"
     ]
    }
   ],
   "source": [
    "a=input(\"Enter the string\")\n",
    "b=a.replace(\" \",\"\")\n",
    "print(b)"
   ]
  },
  {
   "cell_type": "markdown",
   "id": "f6b4ec4c",
   "metadata": {},
   "source": [
    "8. Find the length of a string without using the `len()` function"
   ]
  },
  {
   "cell_type": "code",
   "execution_count": 22,
   "id": "0fef6a98",
   "metadata": {},
   "outputs": [
    {
     "name": "stdout",
     "output_type": "stream",
     "text": [
      "Enter a string: charan\n",
      "Length of the input string is: 6\n"
     ]
    }
   ],
   "source": [
    "# User inputs the string and it gets stored in variable str\n",
    "str = input(\"Enter a string: \")\n",
    "\n",
    "# length variable to count the character in a string\n",
    "length = 0\n",
    "for i in str:\n",
    "      length = length+1\n",
    "print(\"Length of the input string is:\", length)"
   ]
  },
  {
   "cell_type": "markdown",
   "id": "44442d92",
   "metadata": {},
   "source": [
    "9.Check if a string contains a specific word."
   ]
  },
  {
   "cell_type": "code",
   "execution_count": 23,
   "id": "1f5ab64a",
   "metadata": {},
   "outputs": [
    {
     "name": "stdout",
     "output_type": "stream",
     "text": [
      "True\n"
     ]
    }
   ],
   "source": [
    "str=\"Hi I am charan\"\n",
    "if \"Hi\" in str:\n",
    "    print(True)\n",
    "else:\n",
    "    print(False)"
   ]
  },
  {
   "cell_type": "markdown",
   "id": "cc05cb42",
   "metadata": {},
   "source": [
    "10.Replace a word in a string with another word"
   ]
  },
  {
   "cell_type": "code",
   "execution_count": 24,
   "id": "f5aabd1e",
   "metadata": {},
   "outputs": [
    {
     "name": "stdout",
     "output_type": "stream",
     "text": [
      "I like Python\n"
     ]
    }
   ],
   "source": [
    "txt = \"I like JAVA\"\n",
    "\n",
    "x = txt.replace(\"JAVA\", \"Python\")\n",
    "\n",
    "print(x)"
   ]
  },
  {
   "cell_type": "markdown",
   "id": "dd701bd4",
   "metadata": {},
   "source": [
    "11. Count the occurrences of a word in a string.\n",
    " "
   ]
  },
  {
   "cell_type": "code",
   "execution_count": 1,
   "id": "f558cd5b",
   "metadata": {},
   "outputs": [
    {
     "name": "stdout",
     "output_type": "stream",
     "text": [
      "The word 'Hello' appears 3 times in the text.\n"
     ]
    }
   ],
   "source": [
    "a = \"Hello every one Hello All Hello Gentle man\"\n",
    "word_to_count = \"Hello\"\n",
    "\n",
    "result = a.count(word_to_count)\n",
    "print(f\"The word '{word_to_count}' appears {result} times in the text.\")\n"
   ]
  },
  {
   "cell_type": "markdown",
   "id": "88e4732f",
   "metadata": {},
   "source": [
    "12.Find the first occurrence of a word in a string."
   ]
  },
  {
   "cell_type": "code",
   "execution_count": 29,
   "id": "4b755b31",
   "metadata": {},
   "outputs": [
    {
     "name": "stdout",
     "output_type": "stream",
     "text": [
      "The first occurrence of 'home' starts at index 17.\n"
     ]
    }
   ],
   "source": [
    "text = \"Hi Welcome to my home Chaaran home\"\n",
    "word_to_find = \"home\"\n",
    "\n",
    "index = text.find(word_to_find)\n",
    "\n",
    "if index != -1:\n",
    "    print(f\"The first occurrence of '{word_to_find}' starts at index {index}.\")\n",
    "else:\n",
    "    print(f\"'{word_to_find}' not found in the text.\")\n"
   ]
  },
  {
   "cell_type": "markdown",
   "id": "3d1f61ac",
   "metadata": {},
   "source": [
    "13. Find the last occurrence of a word in a string."
   ]
  },
  {
   "cell_type": "code",
   "execution_count": 30,
   "id": "aff0e0f4",
   "metadata": {},
   "outputs": [
    {
     "name": "stdout",
     "output_type": "stream",
     "text": [
      "The last occurrence of 'home' starts at index 29.\n"
     ]
    }
   ],
   "source": [
    "text = \"Hi welcome to my home Charan home\"\n",
    "word_to_find = \"home\"\n",
    "\n",
    "index = text.rfind(word_to_find)\n",
    "\n",
    "if index != -1:\n",
    "    print(f\"The last occurrence of '{word_to_find}' starts at index {index}.\")\n",
    "else:\n",
    "    print(f\"'{word_to_find}' not found in the text.\")\n"
   ]
  },
  {
   "cell_type": "markdown",
   "id": "dbf6f078",
   "metadata": {},
   "source": [
    "14 Split a string into a list of words.\n"
   ]
  },
  {
   "cell_type": "code",
   "execution_count": 31,
   "id": "34383366",
   "metadata": {},
   "outputs": [
    {
     "name": "stdout",
     "output_type": "stream",
     "text": [
      "['apple', 'banana', 'orange', 'grape']\n"
     ]
    }
   ],
   "source": [
    "text = \"apple,banana,orange,grape\"\n",
    "b = text.split(',')\n",
    "\n",
    "print(b)\n"
   ]
  },
  {
   "cell_type": "markdown",
   "id": "6d965027",
   "metadata": {},
   "source": [
    "15. Join a list of words into a string.\n"
   ]
  },
  {
   "cell_type": "code",
   "execution_count": 35,
   "id": "932364b7",
   "metadata": {},
   "outputs": [
    {
     "name": "stdout",
     "output_type": "stream",
     "text": [
      "Thisisalistofwords\n"
     ]
    }
   ],
   "source": [
    "words_list = ['This', 'is', 'a', 'list', 'of', 'words']\n",
    "delimiter=''\n",
    "result_string = delimiter.join(words_list)\n",
    "print(result_string)"
   ]
  },
  {
   "cell_type": "markdown",
   "id": "8ebcde19",
   "metadata": {},
   "source": [
    "16. Convert a string where words are separated by spaces to one where words\n",
    "are separated by underscores"
   ]
  },
  {
   "cell_type": "code",
   "execution_count": 37,
   "id": "fc75e1a7",
   "metadata": {},
   "outputs": [
    {
     "name": "stdout",
     "output_type": "stream",
     "text": [
      "Enter a stringsai charan Reddy\n",
      "sai_charan_Reddy\n"
     ]
    }
   ],
   "source": [
    "a=input(\"Enter a string\")\n",
    "b=a.replace(\" \",\"_\")\n",
    "print(b)"
   ]
  },
  {
   "cell_type": "markdown",
   "id": "eeebfe3c",
   "metadata": {},
   "source": [
    "17. Check if a string starts with a specific word or phrase."
   ]
  },
  {
   "cell_type": "code",
   "execution_count": 38,
   "id": "1dd5116e",
   "metadata": {},
   "outputs": [
    {
     "name": "stdout",
     "output_type": "stream",
     "text": [
      "The text starts with 'Hello'.\n"
     ]
    }
   ],
   "source": [
    "text = \"Hello, how are you doing today?\"\n",
    "prefix = \"Hello\"\n",
    "\n",
    "if text.startswith(prefix):\n",
    "    print(f\"The text starts with '{prefix}'.\")\n",
    "else:\n",
    "    print(f\"The text does not start with '{prefix}'.\")\n"
   ]
  },
  {
   "cell_type": "markdown",
   "id": "8d792c2a",
   "metadata": {},
   "source": [
    "18. Check if a string ends with a specific word or phrase"
   ]
  },
  {
   "cell_type": "code",
   "execution_count": 41,
   "id": "7a95f771",
   "metadata": {},
   "outputs": [
    {
     "name": "stdout",
     "output_type": "stream",
     "text": [
      "The text ends with '?'.\n"
     ]
    }
   ],
   "source": [
    "text = \"Hello, how are you doing today?\"\n",
    "b = \"?\"\n",
    "\n",
    "if text.endswith(b):\n",
    "    print(f\"The text ends with '{b}'.\")\n",
    "else:\n",
    "    print(f\"The text does not end with '{b}'.\")"
   ]
  },
  {
   "cell_type": "markdown",
   "id": "beccdf1e",
   "metadata": {},
   "source": [
    "19. Convert a string to title case (e.g., \"hello world\" to \"Hello World\")."
   ]
  },
  {
   "cell_type": "code",
   "execution_count": 2,
   "id": "46850992",
   "metadata": {},
   "outputs": [
    {
     "name": "stdout",
     "output_type": "stream",
     "text": [
      "Enter the Stringhello world\n",
      "Hello World\n"
     ]
    }
   ],
   "source": [
    "a=input(\"Enter the String\")\n",
    "b=a.title()\n",
    "print(b)"
   ]
  },
  {
   "cell_type": "markdown",
   "id": "b18a25ee",
   "metadata": {},
   "source": [
    "20.Find the longest word in a string"
   ]
  },
  {
   "cell_type": "code",
   "execution_count": 11,
   "id": "f2748d21",
   "metadata": {},
   "outputs": [
    {
     "name": "stdout",
     "output_type": "stream",
     "text": [
      "The longest word is: longest\n"
     ]
    }
   ],
   "source": [
    "input_string = \"This is a sample string where we want to find the longest word.\"\n",
    "\n",
    "words = input_string.split()  # Split the string into a list of words\n",
    "longest_word = words[0]\n",
    "\n",
    "for word in words:\n",
    "    if len(word) > len(longest_word):\n",
    "        longest_word = word\n",
    "\n",
    "print(\"The longest word is:\", longest_word)\n"
   ]
  },
  {
   "cell_type": "markdown",
   "id": "74f45801",
   "metadata": {},
   "source": [
    "21 Find the shortest word in a string."
   ]
  },
  {
   "cell_type": "code",
   "execution_count": 15,
   "id": "4c047e29",
   "metadata": {},
   "outputs": [
    {
     "name": "stdout",
     "output_type": "stream",
     "text": [
      "The shortest word is: a\n"
     ]
    }
   ],
   "source": [
    "input_string = \"This is a sample string\"\n",
    "\n",
    "words = input_string.split()  # Split the string into a list of words\n",
    "shortest_word =words[0]\n",
    "\n",
    "for word in words:\n",
    "    if len(word) < len(shortest_word):\n",
    "        shortest_word = word\n",
    "        \n",
    "print(\"The shortest word is:\",shortest_word)\n"
   ]
  },
  {
   "cell_type": "markdown",
   "id": "c8fcb596",
   "metadata": {},
   "source": [
    "22.Reverse the order of words in a string.\n"
   ]
  },
  {
   "cell_type": "code",
   "execution_count": 16,
   "id": "5124e74c",
   "metadata": {},
   "outputs": [
    {
     "name": "stdout",
     "output_type": "stream",
     "text": [
      "Reversed string: reverse. to string sample a is This\n"
     ]
    }
   ],
   "source": [
    "input_string = \"This is a sample string to reverse.\"\n",
    "\n",
    "words = input_string.split()  # Split the string into a list of words\n",
    "reversed_string = \" \".join(reversed(words))  # Reverse the list of words and join them with spaces\n",
    "\n",
    "print(\"Reversed string:\", reversed_string)"
   ]
  },
  {
   "cell_type": "markdown",
   "id": "63fce0c1",
   "metadata": {},
   "source": [
    "23.Check if a string is alphanumeric"
   ]
  },
  {
   "cell_type": "code",
   "execution_count": 17,
   "id": "76209eee",
   "metadata": {},
   "outputs": [
    {
     "name": "stdout",
     "output_type": "stream",
     "text": [
      "Enter the stringsaicharan\n"
     ]
    },
    {
     "data": {
      "text/plain": [
       "True"
      ]
     },
     "execution_count": 17,
     "metadata": {},
     "output_type": "execute_result"
    }
   ],
   "source": [
    "a=input(\"Enter the string\")\n",
    "a.isalnum()"
   ]
  },
  {
   "cell_type": "markdown",
   "id": "a034bba4",
   "metadata": {},
   "source": [
    "24.Extract all digits from a string."
   ]
  },
  {
   "cell_type": "code",
   "execution_count": 20,
   "id": "c76f0b89",
   "metadata": {},
   "outputs": [
    {
     "name": "stdout",
     "output_type": "stream",
     "text": [
      "Extracted digits: 123456\n"
     ]
    }
   ],
   "source": [
    "input_string = \"Hello123World456\"\n",
    "\n",
    "digits = []\n",
    "for i in input_string:\n",
    "    if i.isdigit():\n",
    "        digits.append(i)\n",
    "\n",
    "result = ''.join(digits)\n",
    "print(\"Extracted digits:\", result)\n",
    "\n"
   ]
  },
  {
   "cell_type": "markdown",
   "id": "fbf88cbc",
   "metadata": {},
   "source": [
    "25. Extract all alphabets from a string."
   ]
  },
  {
   "cell_type": "code",
   "execution_count": 22,
   "id": "bbc7e026",
   "metadata": {},
   "outputs": [
    {
     "name": "stdout",
     "output_type": "stream",
     "text": [
      "Extracted alpha: HelloWorld\n"
     ]
    }
   ],
   "source": [
    "input_string = \"Hello123World456\"\n",
    "\n",
    "alpha = []\n",
    "for i in input_string:\n",
    "    if i.isalpha():\n",
    "        alpha.append(i)\n",
    "\n",
    "result = ''.join(alpha)\n",
    "print(\"Extracted alpha:\", result)\n",
    "\n"
   ]
  },
  {
   "cell_type": "markdown",
   "id": "c1bfdf34",
   "metadata": {},
   "source": [
    "26. Count the number of uppercase letters in a string"
   ]
  },
  {
   "cell_type": "code",
   "execution_count": 1,
   "id": "a5f61da3",
   "metadata": {},
   "outputs": [
    {
     "name": "stdout",
     "output_type": "stream",
     "text": [
      "Enter a string: sAI\n",
      "Number of uppercase letters: 2\n"
     ]
    }
   ],
   "source": [
    "a= input(\"Enter a string: \")\n",
    "uppercase_count = 0\n",
    "\n",
    "for i in a:\n",
    "    if i.isupper():\n",
    "        uppercase_count += 1\n",
    "\n",
    "print(\"Number of uppercase letters:\", uppercase_count)\n"
   ]
  },
  {
   "cell_type": "markdown",
   "id": "c9965241",
   "metadata": {},
   "source": [
    "27.Count the number of Lowercase letters in a string"
   ]
  },
  {
   "cell_type": "code",
   "execution_count": 2,
   "id": "935f0300",
   "metadata": {},
   "outputs": [
    {
     "name": "stdout",
     "output_type": "stream",
     "text": [
      "Enter a string: saICharan\n",
      "Number of lowercase letters: 7\n"
     ]
    }
   ],
   "source": [
    "a= input(\"Enter a string: \")\n",
    "lowercase_count = 0\n",
    "\n",
    "for i in a:\n",
    "    if i.islower():\n",
    "        lowercase_count += 1\n",
    "\n",
    "print(\"Number of lowercase letters:\", lowercase_count)\n"
   ]
  },
  {
   "cell_type": "markdown",
   "id": "23d38d8b",
   "metadata": {},
   "source": [
    "28. Swap the case of each character in a string.\n"
   ]
  },
  {
   "cell_type": "code",
   "execution_count": 3,
   "id": "3cb9cf2d",
   "metadata": {},
   "outputs": [
    {
     "name": "stdout",
     "output_type": "stream",
     "text": [
      "Enter the stringSaiCHAran\n",
      "sAIchaRAN\n"
     ]
    }
   ],
   "source": [
    "a=input(\"Enter the string\")\n",
    "print(a.swapcase())"
   ]
  },
  {
   "cell_type": "raw",
   "id": "697ab4b5",
   "metadata": {},
   "source": [
    "29. Remove a specific word from a string."
   ]
  },
  {
   "cell_type": "code",
   "execution_count": 4,
   "id": "5a9e3c9e",
   "metadata": {},
   "outputs": [
    {
     "name": "stdout",
     "output_type": "stream",
     "text": [
      "Enter a string: Hi I am Charan\n",
      "Enter the word to remove: Charan\n",
      "String with word removed: Hi I am \n"
     ]
    }
   ],
   "source": [
    "input_string = input(\"Enter a string: \")\n",
    "word_to_remove = input(\"Enter the word to remove: \")\n",
    "\n",
    "new_string = input_string.replace(word_to_remove, '')\n",
    "\n",
    "print(\"String with word removed:\", new_string)\n"
   ]
  },
  {
   "cell_type": "markdown",
   "id": "b687433c",
   "metadata": {},
   "source": [
    "30. Check if a string is a valid email address."
   ]
  },
  {
   "cell_type": "code",
   "execution_count": 4,
   "id": "46cb61d9",
   "metadata": {},
   "outputs": [
    {
     "name": "stdout",
     "output_type": "stream",
     "text": [
      "Enter your EmailSAO\n",
      "Invalid email adress\n"
     ]
    }
   ],
   "source": [
    "from validate_email import validate_email\n",
    "email=input(\"Enter your Email\")\n",
    "a=validate_email(email)\n",
    "if a:\n",
    "    print(\"Valid email adress\")\n",
    "else:\n",
    "    print(\"Invalid email adress\")"
   ]
  },
  {
   "cell_type": "markdown",
   "id": "46d1fe0a",
   "metadata": {},
   "source": [
    "31.Extract the username from an email address string."
   ]
  },
  {
   "cell_type": "code",
   "execution_count": 5,
   "id": "4fae2951",
   "metadata": {},
   "outputs": [
    {
     "name": "stdout",
     "output_type": "stream",
     "text": [
      "Enter an email address: saicharan10521@gmail.com\n",
      "Extracted username: saicharan10521\n"
     ]
    }
   ],
   "source": [
    "input_email = input(\"Enter an email address: \")\n",
    "\n",
    "if \"@\" in input_email:\n",
    "    username = input_email.split(\"@\")[0]\n",
    "    print(\"Extracted username:\", username)\n",
    "else:\n",
    "    print(\"Invalid email address format\")\n"
   ]
  },
  {
   "cell_type": "markdown",
   "id": "a7895514",
   "metadata": {},
   "source": [
    "32. Extract the domain name from an email address string"
   ]
  },
  {
   "cell_type": "code",
   "execution_count": 6,
   "id": "8df271f7",
   "metadata": {},
   "outputs": [
    {
     "name": "stdout",
     "output_type": "stream",
     "text": [
      "Enter an email address: saicharan10521@gmail.com\n",
      "Extracted username: gmail.com\n"
     ]
    }
   ],
   "source": [
    "input_email = input(\"Enter an email address: \")\n",
    "\n",
    "if \"@\" in input_email:\n",
    "    username = input_email.split(\"@\")[1]\n",
    "    print(\"Extracted username:\", username)\n",
    "else:\n",
    "    print(\"Invalid email address format\")"
   ]
  },
  {
   "cell_type": "markdown",
   "id": "6678072c",
   "metadata": {},
   "source": [
    "33. Replace multiple spaces in a string with a single space."
   ]
  },
  {
   "cell_type": "markdown",
   "id": "65ed57f2",
   "metadata": {},
   "source": [
    "mystring = 'Here is  some   text   I      wrote   '\n",
    "b=' '.join(mystring.split())\n",
    "print(b)"
   ]
  },
  {
   "cell_type": "markdown",
   "id": "7011ef01",
   "metadata": {},
   "source": [
    "34. Check if a string is a valid URL."
   ]
  },
  {
   "cell_type": "code",
   "execution_count": 14,
   "id": "5832e269",
   "metadata": {},
   "outputs": [
    {
     "name": "stdout",
     "output_type": "stream",
     "text": [
      "Enter URLhttps://edabit.com/challenges/python3\n",
      "Valid url\n"
     ]
    }
   ],
   "source": [
    "import validators\n",
    "validation_url=validators.url(input(\"Enter URL\"))\n",
    "if validation_url:\n",
    "    print(\"Valid url\")\n",
    "else:\n",
    "    print(\"Invalid url\")"
   ]
  },
  {
   "cell_type": "markdown",
   "id": "34a0a4ac",
   "metadata": {},
   "source": [
    "35. Extract the protocol (http or https) from a URL string"
   ]
  },
  {
   "cell_type": "code",
   "execution_count": 19,
   "id": "6a1a2c27",
   "metadata": {},
   "outputs": [
    {
     "name": "stdout",
     "output_type": "stream",
     "text": [
      "enter your urlhttps://www.pwskills.com/\n",
      "protocol of the given url is  https\n"
     ]
    }
   ],
   "source": [
    "url=input(\"enter your url\")\n",
    "b=url.split(':')[0]\n",
    "print(\"protocol of the given url is \",b)"
   ]
  },
  {
   "cell_type": "markdown",
   "id": "80689e60",
   "metadata": {},
   "source": [
    "36. Find the frequency of each character in a string."
   ]
  },
  {
   "cell_type": "code",
   "execution_count": 27,
   "id": "611ba13b",
   "metadata": {},
   "outputs": [
    {
     "name": "stdout",
     "output_type": "stream",
     "text": [
      "Counter({'a': 3, 's': 1, 'i': 1, 'c': 1, 'h': 1, 'r': 1, 'n': 1})\n"
     ]
    }
   ],
   "source": [
    "from collections import Counter\n",
    "a = \"saicharan\"\n",
    "res = Counter(a)\n",
    "print(res)"
   ]
  },
  {
   "cell_type": "markdown",
   "id": "a012322f",
   "metadata": {},
   "source": [
    "37. Remove all punctuation from a string.\n"
   ]
  },
  {
   "cell_type": "code",
   "execution_count": 28,
   "id": "af36e821",
   "metadata": {},
   "outputs": [
    {
     "name": "stdout",
     "output_type": "stream",
     "text": [
      "hi. wh?at is the weat[h]er lik?e.\n"
     ]
    }
   ],
   "source": [
    "a_string = '!hi. wh?at is the weat[h]er lik?e.'\n",
    "new_string = a_string.replace('!', '')\n",
    "\n",
    "print(new_string)"
   ]
  },
  {
   "cell_type": "markdown",
   "id": "2b6a21b2",
   "metadata": {},
   "source": [
    "38. Check if a string contains only digits."
   ]
  },
  {
   "cell_type": "code",
   "execution_count": 32,
   "id": "107ad1e0",
   "metadata": {},
   "outputs": [
    {
     "name": "stdout",
     "output_type": "stream",
     "text": [
      "Initial Strings :  1234556 ab123bc\n",
      "String1 contains all numbers\n",
      "String2 doesn't contains all numbers\n"
     ]
    }
   ],
   "source": [
    "# Initialising string\n",
    "string1 = '1234556'\n",
    "string2 = 'ab123bc'\n",
    "\n",
    "# printing initial string\n",
    "print(\"Initial Strings : \", string1, string2)\n",
    "\n",
    "# Using isdigit()\n",
    "if string1.isdigit():\n",
    "\tprint(\"String1 contains all numbers\")\n",
    "else:\n",
    "\tprint(\"String1 doesn't contains all numbers\")\n",
    "\n",
    "if string2.isdigit():\n",
    "\tprint(\"String2 contains all numbers\")\n",
    "else:\n",
    "\tprint(\"String2 doesn't contains all numbers\")\n"
   ]
  },
  {
   "cell_type": "markdown",
   "id": "1febccd2",
   "metadata": {},
   "source": [
    "39. Check if a string contains only alphabets."
   ]
  },
  {
   "cell_type": "code",
   "execution_count": 34,
   "id": "93bbb5b1",
   "metadata": {},
   "outputs": [
    {
     "name": "stdout",
     "output_type": "stream",
     "text": [
      "Initial Strings :  abcdef ab123bc\n",
      "String1 contains all alphabets\n",
      "String2 doesn't contains all alphabets\n"
     ]
    }
   ],
   "source": [
    "# Initialising string\n",
    "string1 = 'abcdef'\n",
    "string2 = 'ab123bc'\n",
    "\n",
    "# printing initial string\n",
    "print(\"Initial Strings : \", string1, string2)\n",
    "\n",
    "# Using isalpha()\n",
    "if string1.isalpha():\n",
    "\tprint(\"String1 contains all alphabets\")\n",
    "else:\n",
    "\tprint(\"String1 doesn't contains all alphabets\")\n",
    "\n",
    "if string2.isalpha():\n",
    "\tprint(\"String2 contains all alphabets\")\n",
    "else:\n",
    "\tprint(\"String2 doesn't contains all alphabets\")\n"
   ]
  },
  {
   "cell_type": "markdown",
   "id": "f574b69e",
   "metadata": {},
   "source": [
    "40. Convert a string to a list of characters."
   ]
  },
  {
   "cell_type": "code",
   "execution_count": 36,
   "id": "0bc8cdfe",
   "metadata": {},
   "outputs": [
    {
     "name": "stdout",
     "output_type": "stream",
     "text": [
      "Enter a string: sai charan\n",
      "List of characters: ['s', 'a', 'i', ' ', 'c', 'h', 'a', 'r', 'a', 'n']\n"
     ]
    }
   ],
   "source": [
    "input_string = input(\"Enter a string: \")\n",
    "b= list(input_string)\n",
    "print(\"List of characters:\", b)\n"
   ]
  },
  {
   "cell_type": "markdown",
   "id": "9f50ad8f",
   "metadata": {},
   "source": [
    "41. Check if two strings are anagrams."
   ]
  },
  {
   "cell_type": "code",
   "execution_count": 46,
   "id": "6df0f15c",
   "metadata": {},
   "outputs": [
    {
     "name": "stdout",
     "output_type": "stream",
     "text": [
      "enter the stringcare\n",
      "enter the stringrace\n",
      "Anagram\n"
     ]
    }
   ],
   "source": [
    "a=input(\"enter the string\")\n",
    "b=input(\"enter the string\")\n",
    "a1=a.lower()\n",
    "b1=b.lower()\n",
    "if len(a)==len(b):\n",
    "    a2=sorted(a1)\n",
    "    b2=sorted(b1)\n",
    "    if a2==b2:\n",
    "        print(\"Anagram\")\n",
    "    else:\n",
    "        print(\"not anagrams\")\n",
    "else:\n",
    "    print(\"Not anagrams\")"
   ]
  },
  {
   "cell_type": "markdown",
   "id": "81c5ed30",
   "metadata": {},
   "source": [
    "42. Encode a string using a Caesar cipher.\n"
   ]
  },
  {
   "cell_type": "code",
   "execution_count": 64,
   "id": "1c9d921f",
   "metadata": {},
   "outputs": [
    {
     "name": "stdout",
     "output_type": "stream",
     "text": [
      "Enter the stringsaicharan\n",
      "Enter the shift you want2\n",
      "Text  : saicharan\n",
      "Shift : 2\n",
      "s\n",
      "a\n",
      "i\n",
      "c\n",
      "h\n",
      "a\n",
      "r\n",
      "a\n",
      "n\n",
      "Cipher: uckejctcp\n"
     ]
    }
   ],
   "source": [
    "def encrypt(inputText,s):\n",
    "    result = \"\"\n",
    " \n",
    "    for i in range(len(inputText)):\n",
    "        char = inputText[i]\n",
    "        print(char)\n",
    " \n",
    "        if (char.isupper()):\n",
    "            result += chr((ord(char) + s-65) % 26 + 65)\n",
    " \n",
    "        else:\n",
    "            result += chr((ord(char) + s - 97) % 26 + 97)\n",
    " \n",
    "    return result\n",
    " \n",
    "inputText = input(\"Enter the string\")\n",
    "s = int(input(\"Enter the shift you want\"))\n",
    "print (\"Text  : \" + inputText)\n",
    "\n",
    "print (\"Shift : \" + str(s))\n",
    "print (\"Cipher: \" + encrypt(inputText,s))"
   ]
  },
  {
   "cell_type": "markdown",
   "id": "b1c21abd",
   "metadata": {},
   "source": [
    "43.Decode a Caesar cipher encoded string"
   ]
  },
  {
   "cell_type": "code",
   "execution_count": 67,
   "id": "1533c78f",
   "metadata": {},
   "outputs": [
    {
     "name": "stdout",
     "output_type": "stream",
     "text": [
      "Enter the stringuck\n",
      "sai\n"
     ]
    }
   ],
   "source": [
    "def caesar_decrypt(ciphertext, shift):\n",
    "    decrypted_text = \"\"\n",
    "\n",
    "    for char in ciphertext:\n",
    "        if char.isalpha():\n",
    "            ascii_offset = ord('a') if char.islower() else ord('A')\n",
    "            decrypted_char = chr((ord(char) - ascii_offset - shift) % 26 + ascii_offset)\n",
    "            decrypted_text += decrypted_char\n",
    "        else:\n",
    "            decrypted_text += char\n",
    "\n",
    "    return decrypted_text\n",
    "\n",
    "# Example usage\n",
    "encoded_string = input(\"Enter the string\")\n",
    "shift_value = 2\n",
    "decoded_string = caesar_decrypt(encoded_string, shift_value)\n",
    "print(decoded_string)\n"
   ]
  },
  {
   "cell_type": "markdown",
   "id": "d1f433ca",
   "metadata": {},
   "source": [
    "44. Find the most frequent word in a string.\n"
   ]
  },
  {
   "cell_type": "code",
   "execution_count": 75,
   "id": "febab769",
   "metadata": {},
   "outputs": [
    {
     "name": "stdout",
     "output_type": "stream",
     "text": [
      "The most frequent word is: apple\n"
     ]
    }
   ],
   "source": [
    "input_string = \"apple orange banana apple banana orange apple\"\n",
    "words = input_string.split()  # Split the string into words\n",
    "\n",
    "word_frequency = {}  # Create a dictionary to store word frequencies\n",
    "\n",
    "for word in words:\n",
    "    if word in word_frequency:\n",
    "        word_frequency[word] += 1\n",
    "    else:\n",
    "        word_frequency[word] = 1\n",
    "\n",
    "most_frequent_word = max(word_frequency, key=word_frequency.get)\n",
    "print(\"The most frequent word is:\", most_frequent_word)\n"
   ]
  },
  {
   "cell_type": "markdown",
   "id": "812b6e75",
   "metadata": {},
   "source": [
    "45. Find all unique words in a string."
   ]
  },
  {
   "cell_type": "code",
   "execution_count": 68,
   "id": "5e3874b6",
   "metadata": {},
   "outputs": [
    {
     "name": "stdout",
     "output_type": "stream",
     "text": [
      "{'is', 'unique', 'some', 'repeating', 'with', 'and', 'This', 'a', 'words', 'sample', 'string'}\n"
     ]
    }
   ],
   "source": [
    "input_string = \"This is a sample string with some repeating words and some unique words\"\n",
    "words = input_string.split()  # Split the string into words\n",
    "unique_words = set(words)  # Convert the list of words into a set\n",
    "\n",
    "print(unique_words)\n"
   ]
  },
  {
   "cell_type": "markdown",
   "id": "1ac8bdcd",
   "metadata": {},
   "source": [
    "46. Count the number of syllables in a string.\n"
   ]
  },
  {
   "cell_type": "code",
   "execution_count": 77,
   "id": "9dfcfed8",
   "metadata": {},
   "outputs": [
    {
     "name": "stdout",
     "output_type": "stream",
     "text": [
      "The word 'count' has 1 syllables.\n"
     ]
    }
   ],
   "source": [
    "def count_syllables(word):\n",
    "    vowels = \"aeiouAEIOU\"\n",
    "    syllable_count = 0\n",
    "    in_syllable = False\n",
    "    \n",
    "    for char in word:\n",
    "        if char in vowels:\n",
    "            if not in_syllable:\n",
    "                syllable_count += 1\n",
    "                in_syllable = True\n",
    "        else:\n",
    "            in_syllable = False\n",
    "    \n",
    "    return syllable_count\n",
    "\n",
    "# Test the function\n",
    "word = \"count\"\n",
    "syllable_count = count_syllables(word)\n",
    "print(f\"The word '{word}' has {syllable_count} syllables.\")\n"
   ]
  },
  {
   "cell_type": "markdown",
   "id": "de6db3a0",
   "metadata": {},
   "source": [
    "47. Check if a string contains any special characters."
   ]
  },
  {
   "cell_type": "code",
   "execution_count": 78,
   "id": "6d9fcba0",
   "metadata": {},
   "outputs": [
    {
     "name": "stdout",
     "output_type": "stream",
     "text": [
      "String contains special characters.\n"
     ]
    }
   ],
   "source": [
    "input_string = \"Hello, world!\"  # Replace this with your string\n",
    "\n",
    "special_characters = \"!@#$%^&*()_+{}[]|;:,.<>?\\\"'\"\n",
    "\n",
    "contains_special_character = False\n",
    "\n",
    "for char in input_string:\n",
    "    if char in special_characters:\n",
    "        contains_special_character = True\n",
    "        break  # Exit the loop as soon as a special character is found\n",
    "\n",
    "if contains_special_character:\n",
    "    print(\"String contains special characters.\")\n",
    "else:\n",
    "    print(\"String does not contain special characters.\")\n"
   ]
  },
  {
   "cell_type": "markdown",
   "id": "3cf1d02a",
   "metadata": {},
   "source": [
    "48. Remove the nth word from a string.\n"
   ]
  },
  {
   "cell_type": "code",
   "execution_count": 82,
   "id": "ed043ab8",
   "metadata": {},
   "outputs": [
    {
     "name": "stdout",
     "output_type": "stream",
     "text": [
      "Enter the stringi am a very good boy\n",
      "i am very good boy\n"
     ]
    }
   ],
   "source": [
    "input_string = input(\"Enter the string\")\n",
    "n = 3  # Remove the 3rd word (\"a\")\n",
    "\n",
    "words = input_string.split()  # Split the string into words\n",
    "\n",
    "if n > 0 and n <= len(words):\n",
    "    del words[n - 1]  # Remove the nth word (adjusted for 0-based indexing)\n",
    "    result = ' '.join(words)  # Join the remaining words back into a string\n",
    "    print(result)\n",
    "else:\n",
    "    print(\"Invalid index for word removal\")\n"
   ]
  },
  {
   "cell_type": "markdown",
   "id": "b1b71b3b",
   "metadata": {},
   "source": [
    "49. Insert a word at the nth position in a string"
   ]
  },
  {
   "cell_type": "code",
   "execution_count": 83,
   "id": "9d93c765",
   "metadata": {},
   "outputs": [
    {
     "name": "stdout",
     "output_type": "stream",
     "text": [
      "Thinew s is a sentence.\n"
     ]
    }
   ],
   "source": [
    "input_string = \"This is a sentence.\"\n",
    "word_to_insert = \"new\"\n",
    "n = 3  # Insert at the 3rd position\n",
    "\n",
    "if n >= 0 and n <= len(input_string):\n",
    "    result = input_string[:n] + word_to_insert + \" \" + input_string[n:]\n",
    "    print(result)\n",
    "else:\n",
    "    print(\"Invalid position for insertion\")\n"
   ]
  },
  {
   "cell_type": "markdown",
   "id": "e8deb6ee",
   "metadata": {},
   "source": [
    "50. Convert a CSV string to a list of lists."
   ]
  },
  {
   "cell_type": "code",
   "execution_count": 98,
   "id": "19835be4",
   "metadata": {},
   "outputs": [
    {
     "name": "stdout",
     "output_type": "stream",
     "text": [
      "[['1', 'Sai', 'Charan'], ['2', 'Deepali'], ['3', 'Bhavani', 'Chinnadadam']]\n"
     ]
    }
   ],
   "source": [
    "import csv\n",
    "from io import StringIO\n",
    "\n",
    "csv_string = \"1,Sai,Charan\\n2,Deepali\\n3,Bhavani,Chinnadadam\"\n",
    "\n",
    "csv_list_of_lists = []\n",
    "csv_file = StringIO(csv_string)\n",
    "reader = csv.reader(csv_file)\n",
    "for row in reader:\n",
    "    csv_list_of_lists.append(row)\n",
    "\n",
    "print(csv_list_of_lists)\n"
   ]
  },
  {
   "cell_type": "markdown",
   "id": "2cd1303d",
   "metadata": {},
   "source": [
    "# Lists"
   ]
  },
  {
   "cell_type": "markdown",
   "id": "da0e7488",
   "metadata": {},
   "source": [
    "1. Create a list with integers from 1 to 10.\n"
   ]
  },
  {
   "cell_type": "code",
   "execution_count": 106,
   "id": "f821afd2",
   "metadata": {},
   "outputs": [
    {
     "name": "stdout",
     "output_type": "stream",
     "text": [
      "[1, 2, 3, 4, 5, 6, 7, 8, 9, 10]\n"
     ]
    }
   ],
   "source": [
    "lst = list(range(1,11))\n",
    "print(lst)"
   ]
  },
  {
   "cell_type": "markdown",
   "id": "7023ec1d",
   "metadata": {},
   "source": [
    "2. Find the length of a list without using the `len()` function.\n"
   ]
  },
  {
   "cell_type": "code",
   "execution_count": 3,
   "id": "4a300caf",
   "metadata": {},
   "outputs": [
    {
     "name": "stdout",
     "output_type": "stream",
     "text": [
      "Length: 5\n"
     ]
    }
   ],
   "source": [
    "my_list = [1, 2, 3, 4, 5]\n",
    "count = 0\n",
    "\n",
    "for i in my_list:\n",
    "    count += 1\n",
    "\n",
    "print(\"Length:\", count)\n"
   ]
  },
  {
   "cell_type": "markdown",
   "id": "0f0f99e8",
   "metadata": {},
   "source": [
    "3. Append an element to the end of a list.\n"
   ]
  },
  {
   "cell_type": "code",
   "execution_count": 4,
   "id": "1c7af583",
   "metadata": {},
   "outputs": [
    {
     "data": {
      "text/plain": [
       "[1, 2, 3, 4, 6]"
      ]
     },
     "execution_count": 4,
     "metadata": {},
     "output_type": "execute_result"
    }
   ],
   "source": [
    "a=[1,2,3,4]\n",
    "a.append(6)\n",
    "a"
   ]
  },
  {
   "cell_type": "markdown",
   "id": "8a97198f",
   "metadata": {},
   "source": [
    "4. Insert an element at a specific index in a list."
   ]
  },
  {
   "cell_type": "code",
   "execution_count": 6,
   "id": "2da514fe",
   "metadata": {},
   "outputs": [
    {
     "data": {
      "text/plain": [
       "[1, 2, 3, '45', 4, 5, 6, 7, 8, 9]"
      ]
     },
     "execution_count": 6,
     "metadata": {},
     "output_type": "execute_result"
    }
   ],
   "source": [
    "a=[1,2,3,4,5,6,7,8,9]\n",
    "a.insert(3,'45')\n",
    "a"
   ]
  },
  {
   "cell_type": "markdown",
   "id": "2846c746",
   "metadata": {},
   "source": [
    "5. Remove an element from a list by its value."
   ]
  },
  {
   "cell_type": "code",
   "execution_count": 7,
   "id": "7ca83bba",
   "metadata": {},
   "outputs": [
    {
     "name": "stdout",
     "output_type": "stream",
     "text": [
      "[1, 2, 3, 4, 5]\n"
     ]
    }
   ],
   "source": [
    " d = [3, 7, 2, 9, 5]\n",
    "value_to_remove = 7\n",
    "d.remove(value_to_remove)\n",
    "print(my_list)"
   ]
  },
  {
   "cell_type": "markdown",
   "id": "96a4a9c0",
   "metadata": {},
   "source": [
    "6. Remove an element from a list by its index."
   ]
  },
  {
   "cell_type": "code",
   "execution_count": 10,
   "id": "b1f10a39",
   "metadata": {},
   "outputs": [
    {
     "name": "stdout",
     "output_type": "stream",
     "text": [
      "List after removal: [10, 20, 40, 50]\n",
      "Removed element: 30\n"
     ]
    }
   ],
   "source": [
    "my_list = [10, 20, 30, 40, 50]\n",
    "\n",
    "# Removing the element at index 2 (which is 30)\n",
    "removed_element = my_list.pop(2)\n",
    "\n",
    "print(\"List after removal:\", my_list)\n",
    "print(\"Removed element:\", removed_element)\n"
   ]
  },
  {
   "cell_type": "markdown",
   "id": "c2d27277",
   "metadata": {},
   "source": [
    "7. Check if an element exists in a list.\n"
   ]
  },
  {
   "cell_type": "code",
   "execution_count": 9,
   "id": "79eb37da",
   "metadata": {},
   "outputs": [
    {
     "name": "stdout",
     "output_type": "stream",
     "text": [
      "Element exists in the list.\n"
     ]
    }
   ],
   "source": [
    "my_list = [10, 20, 30, 40, 50]\n",
    "\n",
    "element_to_check = 30\n",
    "\n",
    "if element_to_check in my_list:\n",
    "    print(\"Element exists in the list.\")\n",
    "else:\n",
    "    print(\"Element does not exist in the list.\")\n"
   ]
  },
  {
   "cell_type": "markdown",
   "id": "b44c135d",
   "metadata": {},
   "source": [
    "8.Find the index of the first occurrence of an element in a list."
   ]
  },
  {
   "cell_type": "code",
   "execution_count": 12,
   "id": "7a4f8216",
   "metadata": {},
   "outputs": [
    {
     "name": "stdout",
     "output_type": "stream",
     "text": [
      "Index of 7 is 1\n"
     ]
    }
   ],
   "source": [
    "my_list = [3, 7, 2, 9, 5]\n",
    "element_to_find = 7\n",
    "\n",
    "index = my_list.index(element_to_find)\n",
    "print(\"Index of\", element_to_find, \"is\", index)"
   ]
  },
  {
   "cell_type": "markdown",
   "id": "827ec51a",
   "metadata": {},
   "source": [
    "9. Count the occurrences of an element in a list."
   ]
  },
  {
   "cell_type": "code",
   "execution_count": 13,
   "id": "97d13f86",
   "metadata": {},
   "outputs": [
    {
     "name": "stdout",
     "output_type": "stream",
     "text": [
      "The element 20 appears 3 times in the list.\n"
     ]
    }
   ],
   "source": [
    "my_list = [10, 20, 30, 20, 40, 50, 20]\n",
    "\n",
    "element_to_count = 20\n",
    "count = my_list.count(element_to_count)\n",
    "\n",
    "print(f\"The element {element_to_count} appears {count} times in the list.\")\n"
   ]
  },
  {
   "cell_type": "markdown",
   "id": "9a2ca7df",
   "metadata": {},
   "source": [
    "10. Reverse the order of elements in a list."
   ]
  },
  {
   "cell_type": "code",
   "execution_count": 14,
   "id": "0ee7f9da",
   "metadata": {},
   "outputs": [
    {
     "name": "stdout",
     "output_type": "stream",
     "text": [
      "[60, 50, 40, 30, 20, 10]\n"
     ]
    }
   ],
   "source": [
    "a=[10,20,30,40,50,60]\n",
    "a.reverse()\n",
    "print(a)"
   ]
  },
  {
   "cell_type": "markdown",
   "id": "781d5b4e",
   "metadata": {},
   "source": [
    "11. Sort a list in ascending order.\n"
   ]
  },
  {
   "cell_type": "code",
   "execution_count": 15,
   "id": "cbda783d",
   "metadata": {},
   "outputs": [
    {
     "name": "stdout",
     "output_type": "stream",
     "text": [
      "[34, 40, 50, 54, 60]\n"
     ]
    }
   ],
   "source": [
    "a=[50,40,60,54,34]\n",
    "a.sort()\n",
    "print(a)"
   ]
  },
  {
   "cell_type": "markdown",
   "id": "c1c67687",
   "metadata": {},
   "source": [
    "12. Sort a list in descending order."
   ]
  },
  {
   "cell_type": "code",
   "execution_count": 17,
   "id": "2add7b05",
   "metadata": {},
   "outputs": [
    {
     "name": "stdout",
     "output_type": "stream",
     "text": [
      "[60, 54, 50, 40, 34]\n"
     ]
    }
   ],
   "source": [
    "a=[50,40,60,54,34]\n",
    "a.sort(reverse=True)\n",
    "print(a)"
   ]
  },
  {
   "cell_type": "markdown",
   "id": "1bfaa5ee",
   "metadata": {},
   "source": [
    "13. Create a list of even numbers from 1 to 20."
   ]
  },
  {
   "cell_type": "code",
   "execution_count": 22,
   "id": "a17baf68",
   "metadata": {},
   "outputs": [
    {
     "name": "stdout",
     "output_type": "stream",
     "text": [
      "[2, 4, 6, 8, 10, 12, 14, 16, 18, 20]\n"
     ]
    }
   ],
   "source": [
    "a=list(range(2,21,2))\n",
    "print(a)"
   ]
  },
  {
   "cell_type": "markdown",
   "id": "9ac26525",
   "metadata": {},
   "source": [
    "14. Create a list of odd numbers from 1 to 20.\n"
   ]
  },
  {
   "cell_type": "code",
   "execution_count": 23,
   "id": "99473fe9",
   "metadata": {},
   "outputs": [
    {
     "name": "stdout",
     "output_type": "stream",
     "text": [
      "[1, 3, 5, 7, 9, 11, 13, 15, 17, 19]\n"
     ]
    }
   ],
   "source": [
    "a=list(range(1,21,2))\n",
    "print(a)"
   ]
  },
  {
   "cell_type": "markdown",
   "id": "ed68a1ad",
   "metadata": {},
   "source": [
    "15. Find the sum of all elements in a list.\n"
   ]
  },
  {
   "cell_type": "code",
   "execution_count": 25,
   "id": "b3dfd798",
   "metadata": {},
   "outputs": [
    {
     "name": "stdout",
     "output_type": "stream",
     "text": [
      "346\n"
     ]
    }
   ],
   "source": [
    "a=[23,34,54,32,45,68,90]\n",
    "b=sum(a)\n",
    "print(b)"
   ]
  },
  {
   "cell_type": "markdown",
   "id": "3b8e8a62",
   "metadata": {},
   "source": [
    "16. Find the maximum value in a list.\n"
   ]
  },
  {
   "cell_type": "code",
   "execution_count": 26,
   "id": "28cbc2c2",
   "metadata": {},
   "outputs": [
    {
     "name": "stdout",
     "output_type": "stream",
     "text": [
      "90\n"
     ]
    }
   ],
   "source": [
    "a=[23,34,54,32,45,68,90]\n",
    "b=max(a)\n",
    "print(b)"
   ]
  },
  {
   "cell_type": "markdown",
   "id": "86acaced",
   "metadata": {},
   "source": [
    "17.Find the minimum value in a list"
   ]
  },
  {
   "cell_type": "code",
   "execution_count": 27,
   "id": "938edf5b",
   "metadata": {},
   "outputs": [
    {
     "name": "stdout",
     "output_type": "stream",
     "text": [
      "23\n"
     ]
    }
   ],
   "source": [
    "a=[23,34,54,32,45,68,90]\n",
    "b=min(a)\n",
    "print(b)"
   ]
  },
  {
   "cell_type": "markdown",
   "id": "9aa860ee",
   "metadata": {},
   "source": [
    " 18.Create a list of squares of numbers from 1 to 10."
   ]
  },
  {
   "cell_type": "code",
   "execution_count": 28,
   "id": "4812843a",
   "metadata": {},
   "outputs": [
    {
     "name": "stdout",
     "output_type": "stream",
     "text": [
      "List of squares: [1, 4, 9, 16, 25, 36, 49, 64, 81, 100]\n"
     ]
    }
   ],
   "source": [
    "squares_list = [x ** 2 for x in range(1, 11)]\n",
    "\n",
    "print(\"List of squares:\", squares_list)\n"
   ]
  },
  {
   "cell_type": "markdown",
   "id": "7fc7c846",
   "metadata": {},
   "source": [
    "19. Create a list of random numbers"
   ]
  },
  {
   "cell_type": "code",
   "execution_count": 31,
   "id": "8d1aa234",
   "metadata": {},
   "outputs": [
    {
     "name": "stdout",
     "output_type": "stream",
     "text": [
      "[5, 7, 6, 3, 9, 7, 4, 7, 9, 7]\n"
     ]
    }
   ],
   "source": [
    "import random\n",
    "\n",
    "rand_list=[]\n",
    "n=10\n",
    "for i in range(n):\n",
    "    rand_list.append(random.randint(3,9))\n",
    "print(rand_list)\n"
   ]
  },
  {
   "cell_type": "markdown",
   "id": "08d84f78",
   "metadata": {},
   "source": [
    "20. Remove duplicates from a list."
   ]
  },
  {
   "cell_type": "code",
   "execution_count": 30,
   "id": "42a6062f",
   "metadata": {},
   "outputs": [
    {
     "name": "stdout",
     "output_type": "stream",
     "text": [
      "List with duplicates: [1, 2, 2, 3, 4, 4, 5]\n",
      "List without duplicates: [1, 2, 3, 4, 5]\n"
     ]
    }
   ],
   "source": [
    "original_list = [1, 2, 2, 3, 4, 4, 5]\n",
    "unique_list = list(set(original_list))\n",
    "\n",
    "print(\"List with duplicates:\", original_list)\n",
    "print(\"List without duplicates:\", unique_list)\n"
   ]
  },
  {
   "cell_type": "markdown",
   "id": "8c360570",
   "metadata": {},
   "source": [
    "21. Find the common elements between two lists.\n"
   ]
  },
  {
   "cell_type": "code",
   "execution_count": 32,
   "id": "b434f922",
   "metadata": {},
   "outputs": [
    {
     "name": "stdout",
     "output_type": "stream",
     "text": [
      "Common elements: [3, 4, 5]\n"
     ]
    }
   ],
   "source": [
    "list1 = [1, 2, 3, 4, 5]\n",
    "list2 = [3, 4, 5, 6, 7]\n",
    "\n",
    "common_elements = list(set(list1) & set(list2))\n",
    "\n",
    "print(\"Common elements:\", common_elements)\n"
   ]
  },
  {
   "cell_type": "markdown",
   "id": "79cf9c68",
   "metadata": {},
   "source": [
    "22. Find the difference between two lists.\n"
   ]
  },
  {
   "cell_type": "code",
   "execution_count": 35,
   "id": "c2e6e1eb",
   "metadata": {},
   "outputs": [
    {
     "name": "stdout",
     "output_type": "stream",
     "text": [
      "Difference elements with respect to list 1- list 2: [1, 2]\n"
     ]
    }
   ],
   "source": [
    "list1 = [1, 2, 3, 4, 5]\n",
    "list2 = [3, 4, 5, 6, 7]\n",
    "\n",
    "Difference_elements = list(set(list1) - set(list2))\n",
    "\n",
    "print(\"Difference elements with respect to list 1- list 2:\", Difference_elements)\n"
   ]
  },
  {
   "cell_type": "markdown",
   "id": "c42c91f1",
   "metadata": {},
   "source": [
    "23. Merge two lists.\n"
   ]
  },
  {
   "cell_type": "code",
   "execution_count": 36,
   "id": "9b3709c0",
   "metadata": {},
   "outputs": [
    {
     "name": "stdout",
     "output_type": "stream",
     "text": [
      "[1, 2, 3, 4, 5, 6]\n"
     ]
    }
   ],
   "source": [
    "a=[1,2,3]\n",
    "b=[4,5,6]\n",
    "merged_list=a+b\n",
    "print(merged_list)"
   ]
  },
  {
   "cell_type": "markdown",
   "id": "507f27da",
   "metadata": {},
   "source": [
    "24.Multiply all elements in a list by 2"
   ]
  },
  {
   "cell_type": "code",
   "execution_count": 37,
   "id": "1c5c70e9",
   "metadata": {},
   "outputs": [
    {
     "name": "stdout",
     "output_type": "stream",
     "text": [
      "Original list: [1, 2, 3, 4, 5]\n",
      "Doubled list: [2, 4, 6, 8, 10]\n"
     ]
    }
   ],
   "source": [
    "original_list = [1, 2, 3, 4, 5]\n",
    "doubled_list = []\n",
    "\n",
    "for element in original_list:\n",
    "    doubled_list.append(element * 2)\n",
    "\n",
    "print(\"Original list:\", original_list)\n",
    "print(\"Doubled list:\", doubled_list)\n"
   ]
  },
  {
   "cell_type": "markdown",
   "id": "4640d31c",
   "metadata": {},
   "source": [
    "25. Filter out all even numbers from a list.\n"
   ]
  },
  {
   "cell_type": "code",
   "execution_count": 41,
   "id": "b2d678ca",
   "metadata": {},
   "outputs": [
    {
     "name": "stdout",
     "output_type": "stream",
     "text": [
      "Original list: [1, 2, 3, 4, 5, 6, 7, 8, 9, 10]\n",
      "Even numbers: [2, 4, 6, 8, 10]\n"
     ]
    }
   ],
   "source": [
    "original_list = [1, 2, 3, 4, 5, 6, 7, 8, 9, 10]\n",
    "even_numbers = []\n",
    "\n",
    "for number in original_list:\n",
    "    if number % 2 == 0:\n",
    "        even_numbers.append(number)\n",
    "\n",
    "print(\"Original list:\", original_list)\n",
    "print(\"Even numbers:\", even_numbers)\n"
   ]
  },
  {
   "cell_type": "markdown",
   "id": "57a58330",
   "metadata": {},
   "source": [
    "26. Convert a list of strings to a list of integers"
   ]
  },
  {
   "cell_type": "code",
   "execution_count": 42,
   "id": "53f7a337",
   "metadata": {},
   "outputs": [
    {
     "name": "stdout",
     "output_type": "stream",
     "text": [
      "Original list of strings: ['1', '2', '3', '4', '5']\n",
      "List of integers: [1, 2, 3, 4, 5]\n"
     ]
    }
   ],
   "source": [
    "string_list = [\"1\", \"2\", \"3\", \"4\", \"5\"]\n",
    "integer_list = []\n",
    "\n",
    "for string in string_list:\n",
    "    integer_list.append(int(string))\n",
    "\n",
    "print(\"Original list of strings:\", string_list)\n",
    "print(\"List of integers:\", integer_list)\n"
   ]
  },
  {
   "cell_type": "markdown",
   "id": "d2e9074a",
   "metadata": {},
   "source": [
    "27. Convert a list of integers to a list of strings"
   ]
  },
  {
   "cell_type": "code",
   "execution_count": 46,
   "id": "016fd5c4",
   "metadata": {},
   "outputs": [
    {
     "name": "stdout",
     "output_type": "stream",
     "text": [
      "Original list of integers: [1, 2, 3, 4, 5]\n",
      "List of strings: ['1', '2', '3', '4', '5']\n"
     ]
    }
   ],
   "source": [
    "integer_list = [1, 2, 3, 4, 5]\n",
    "string_list = []\n",
    "\n",
    "for number in integer_list:\n",
    "    string_list.append(str(number))\n",
    "\n",
    "print(\"Original list of integers:\", integer_list)\n",
    "print(\"List of strings:\", string_list)\n"
   ]
  },
  {
   "cell_type": "markdown",
   "id": "7d39b115",
   "metadata": {},
   "source": [
    "28. Flatten a nested list.\n"
   ]
  },
  {
   "cell_type": "code",
   "execution_count": 50,
   "id": "a55765ec",
   "metadata": {},
   "outputs": [
    {
     "name": "stdout",
     "output_type": "stream",
     "text": [
      "[1, 2, 3, 4, 5, 6, 7]\n"
     ]
    }
   ],
   "source": [
    "my_list = [[1], [2, 3], [4, 5, 6, 7]]\n",
    "\n",
    "flat_list = sum(my_list, [])\n",
    "print(flat_list)"
   ]
  },
  {
   "cell_type": "markdown",
   "id": "8d1f1bf1",
   "metadata": {},
   "source": [
    "29. Create a list of the first 10 Fibonacci numbers"
   ]
  },
  {
   "cell_type": "code",
   "execution_count": 53,
   "id": "344949d4",
   "metadata": {},
   "outputs": [
    {
     "name": "stdout",
     "output_type": "stream",
     "text": [
      "First 10 Fibonacci numbers: [0, 1, 1, 2, 3, 5, 8, 13, 21, 34]\n"
     ]
    }
   ],
   "source": [
    "fibonacci_numbers = [0, 1]  # Starting with the first two Fibonacci numbers\n",
    "\n",
    "while len(fibonacci_numbers) < 10:\n",
    "    next_number = fibonacci_numbers[-1] + fibonacci_numbers[-2]\n",
    "    #print(next_number)\n",
    "    fibonacci_numbers.append(next_number)\n",
    "\n",
    "print(\"First 10 Fibonacci numbers:\", fibonacci_numbers)\n"
   ]
  },
  {
   "cell_type": "markdown",
   "id": "a1978ff2",
   "metadata": {},
   "source": [
    "30. Check if a list is sorted."
   ]
  },
  {
   "cell_type": "code",
   "execution_count": 55,
   "id": "a5ee5814",
   "metadata": {},
   "outputs": [
    {
     "name": "stdout",
     "output_type": "stream",
     "text": [
      "No, List is not sorted.\n"
     ]
    }
   ],
   "source": [
    "# importing numpy library\n",
    "import numpy as np\n",
    "\n",
    "# initializing list\n",
    "test_list = [11, 4, 5, 8, 10]\n",
    "\n",
    "# convert list to numpy array\n",
    "test_arr = np.array(test_list)\n",
    "\n",
    "# check if the numpy array is sorted or not\n",
    "if np.all(np.diff(test_arr) >= 0):\n",
    "    print(\"Yes, List is sorted.\")\n",
    "else:\n",
    "    print(\"No, List is not sorted.\")\n"
   ]
  },
  {
   "cell_type": "markdown",
   "id": "a14869d0",
   "metadata": {},
   "source": [
    "31.Rotate a list to the left by `n` positions.\n"
   ]
  },
  {
   "cell_type": "code",
   "execution_count": 56,
   "id": "a8b16893",
   "metadata": {},
   "outputs": [
    {
     "name": "stdout",
     "output_type": "stream",
     "text": [
      "Original list: [1, 2, 3, 4, 5]\n",
      "List rotated left by 2 positions: [3, 4, 5, 1, 2]\n"
     ]
    }
   ],
   "source": [
    "my_list = [1, 2, 3, 4, 5]\n",
    "n = 2\n",
    "\n",
    "n %= len(my_list)  # Handle cases where n is larger than the list length\n",
    "\n",
    "rotated_list = my_list[n:] + my_list[:n]\n",
    "\n",
    "print(\"Original list:\", my_list)\n",
    "print(f\"List rotated left by {n} positions:\", rotated_list)"
   ]
  },
  {
   "cell_type": "markdown",
   "id": "871a5d0e",
   "metadata": {},
   "source": [
    "32.Rotate a list to the right by n positions"
   ]
  },
  {
   "cell_type": "code",
   "execution_count": 60,
   "id": "2a82f7a7",
   "metadata": {},
   "outputs": [
    {
     "name": "stdout",
     "output_type": "stream",
     "text": [
      "Original list: [1, 2, 3, 4, 5]\n",
      "List rotated right by 2 positions: [4, 5, 1, 2, 3]\n"
     ]
    }
   ],
   "source": [
    "my_list = [1, 2, 3, 4, 5]\n",
    "n = 2\n",
    "\n",
    "n %= len(my_list)  # Handle cases where n is larger than the list length\n",
    "\n",
    "rotated_list = my_list[-n:] + my_list[:-n]\n",
    "\n",
    "print(\"Original list:\", my_list)\n",
    "print(f\"List rotated right by {n} positions:\", rotated_list)"
   ]
  },
  {
   "cell_type": "markdown",
   "id": "76eaaefb",
   "metadata": {},
   "source": [
    "33. Create a list of prime numbers up to 50."
   ]
  },
  {
   "cell_type": "code",
   "execution_count": 71,
   "id": "16b23c2b",
   "metadata": {},
   "outputs": [
    {
     "name": "stdout",
     "output_type": "stream",
     "text": [
      "[2, 3, 5, 7, 11, 13, 17, 19, 23, 29, 31, 37, 41, 43, 47]\n"
     ]
    }
   ],
   "source": [
    "noprimes = set(j for i in range(2, 8) for j in range(i*2, 50, i))\n",
    "primes = [x for x in range(2, 50) if x not in noprimes]\n",
    "print(primes)"
   ]
  },
  {
   "cell_type": "markdown",
   "id": "dc1a04e3",
   "metadata": {},
   "source": [
    "34. Split a list into chunks of size `n`"
   ]
  },
  {
   "cell_type": "code",
   "execution_count": 75,
   "id": "dfc24bf0",
   "metadata": {},
   "outputs": [
    {
     "name": "stdout",
     "output_type": "stream",
     "text": [
      "enter chunk size2\n",
      "[[1, 2], [3, 4], [5, 6], [7, 8], [9, 10]]\n"
     ]
    }
   ],
   "source": [
    "original_list = [1, 2, 3, 4, 5, 6, 7, 8, 9, 10]\n",
    "chunk_size = int(input(\"enter chunk size\"))\n",
    "\n",
    "chunks = [original_list[i:i + chunk_size] for i in range(0, len(original_list), chunk_size)]\n",
    "\n",
    "print(chunks)\n"
   ]
  },
  {
   "cell_type": "markdown",
   "id": "f870f4b2",
   "metadata": {},
   "source": [
    "35. Find the second largest number in a list"
   ]
  },
  {
   "cell_type": "code",
   "execution_count": 79,
   "id": "48f297a3",
   "metadata": {},
   "outputs": [
    {
     "name": "stdout",
     "output_type": "stream",
     "text": [
      "The second largest number in given list is  12\n"
     ]
    }
   ],
   "source": [
    "a=[10,20,30,12,154]\n",
    "a.sort()\n",
    "print(\"The second largest number in given list is \",a[1])"
   ]
  },
  {
   "cell_type": "markdown",
   "id": "153fc276",
   "metadata": {},
   "source": [
    "36. Replace every element in a list with its square.\n"
   ]
  },
  {
   "cell_type": "code",
   "execution_count": 80,
   "id": "144a8372",
   "metadata": {},
   "outputs": [
    {
     "name": "stdout",
     "output_type": "stream",
     "text": [
      "[4, 9, 25, 49, 100]\n"
     ]
    }
   ],
   "source": [
    "original_list = [2, 3, 5, 7, 10]\n",
    "squared_list = [x ** 2 for x in original_list]\n",
    "\n",
    "print(squared_list)\n"
   ]
  },
  {
   "cell_type": "markdown",
   "id": "757bab13",
   "metadata": {},
   "source": [
    "37. Convert a list to a dictionary where list elements become keys and their\n",
    "indices become values."
   ]
  },
  {
   "cell_type": "code",
   "execution_count": 81,
   "id": "1c775c9c",
   "metadata": {},
   "outputs": [
    {
     "name": "stdout",
     "output_type": "stream",
     "text": [
      "{'apple': 0, 'banana': 1, 'orange': 2, 'grape': 3}\n"
     ]
    }
   ],
   "source": [
    "original_list = ['apple', 'banana', 'orange', 'grape']\n",
    "indexed_dict = {value: index for index, value in enumerate(original_list)}\n",
    "\n",
    "print(indexed_dict)\n"
   ]
  },
  {
   "cell_type": "markdown",
   "id": "e2992afd",
   "metadata": {},
   "source": [
    "38. Shuffle the elements of a list randomly.\n"
   ]
  },
  {
   "cell_type": "code",
   "execution_count": 82,
   "id": "a48414de",
   "metadata": {},
   "outputs": [
    {
     "name": "stdout",
     "output_type": "stream",
     "text": [
      "[10, 1, 6, 4, 5, 8, 7, 2, 9, 3]\n"
     ]
    }
   ],
   "source": [
    "import random\n",
    "\n",
    "original_list = [1, 2, 3, 4, 5, 6, 7, 8, 9, 10]\n",
    "random.shuffle(original_list)\n",
    "\n",
    "print(original_list)\n"
   ]
  },
  {
   "cell_type": "markdown",
   "id": "f027498f",
   "metadata": {},
   "source": [
    "39. Create a list of the first 10 factorial numbers"
   ]
  },
  {
   "cell_type": "code",
   "execution_count": 84,
   "id": "2d30d3d5",
   "metadata": {},
   "outputs": [
    {
     "name": "stdout",
     "output_type": "stream",
     "text": [
      "[1, 2, 6, 24, 120, 720, 5040, 40320, 362880, 3628800]\n"
     ]
    }
   ],
   "source": [
    "factorial_numbers = []\n",
    "current_factorial = 1\n",
    "\n",
    "for n in range(1, 11):\n",
    "    current_factorial *= n\n",
    "    factorial_numbers.append(current_factorial)\n",
    "\n",
    "print(factorial_numbers)\n"
   ]
  },
  {
   "cell_type": "markdown",
   "id": "208e9bf2",
   "metadata": {},
   "source": [
    "40. Check if two lists have at least one element in common."
   ]
  },
  {
   "cell_type": "code",
   "execution_count": 85,
   "id": "25e80c31",
   "metadata": {},
   "outputs": [
    {
     "name": "stdout",
     "output_type": "stream",
     "text": [
      "The lists have at least one common element.\n"
     ]
    }
   ],
   "source": [
    "list1 = [1, 2, 3, 4, 5]\n",
    "list2 = [4, 5, 6, 7, 8]\n",
    "\n",
    "has_common_element = any(item in set(list1) for item in list2)\n",
    "\n",
    "if has_common_element:\n",
    "    print(\"The lists have at least one common element.\")\n",
    "else:\n",
    "    print(\"The lists do not have any common elements.\")\n"
   ]
  },
  {
   "cell_type": "markdown",
   "id": "6cfae6e4",
   "metadata": {},
   "source": [
    "41. Remove all elements from a list"
   ]
  },
  {
   "cell_type": "code",
   "execution_count": 88,
   "id": "593a3bb1",
   "metadata": {},
   "outputs": [
    {
     "data": {
      "text/plain": [
       "[]"
      ]
     },
     "execution_count": 88,
     "metadata": {},
     "output_type": "execute_result"
    }
   ],
   "source": [
    "b=[10,20,30,40]\n",
    "b.clear()\n",
    "b"
   ]
  },
  {
   "cell_type": "markdown",
   "id": "7dfc9da3",
   "metadata": {},
   "source": [
    "42.Replace negative numbers in a list with 0.\n"
   ]
  },
  {
   "cell_type": "code",
   "execution_count": 89,
   "id": "5675ba8b",
   "metadata": {},
   "outputs": [
    {
     "name": "stdout",
     "output_type": "stream",
     "text": [
      "[1, 0, 3, 0, 5, 0, 7, 0, 9, 0]\n"
     ]
    }
   ],
   "source": [
    "original_list = [1, -2, 3, -4, 5, -6, 7, -8, 9, -10]\n",
    "modified_list = [x if x >= 0 else 0 for x in original_list]\n",
    "\n",
    "print(modified_list)\n"
   ]
  },
  {
   "cell_type": "markdown",
   "id": "dfa8b7e8",
   "metadata": {},
   "source": [
    "43. Convert a string into a list of words"
   ]
  },
  {
   "cell_type": "code",
   "execution_count": 91,
   "id": "cba13c00",
   "metadata": {},
   "outputs": [
    {
     "name": "stdout",
     "output_type": "stream",
     "text": [
      "['This', 'is', 'a', 'sample', 'sentence.']\n"
     ]
    }
   ],
   "source": [
    "sentence = \"This is a sample sentence.\"\n",
    "word_list = sentence.split()\n",
    "\n",
    "print(word_list)\n"
   ]
  },
  {
   "cell_type": "markdown",
   "id": "e3d7371f",
   "metadata": {},
   "source": [
    "44.Convert a list of words into a string.\n"
   ]
  },
  {
   "cell_type": "code",
   "execution_count": 95,
   "id": "92c7d8ad",
   "metadata": {},
   "outputs": [
    {
     "name": "stdout",
     "output_type": "stream",
     "text": [
      "This is a Statement\n"
     ]
    }
   ],
   "source": [
    "a=['This','is','a','Statement']\n",
    "b=' '.join(a)\n",
    "print(b)"
   ]
  },
  {
   "cell_type": "markdown",
   "id": "ac623020",
   "metadata": {},
   "source": [
    "45. Create a list of the first `n` powers of 2"
   ]
  },
  {
   "cell_type": "code",
   "execution_count": 96,
   "id": "ccd02a31",
   "metadata": {},
   "outputs": [
    {
     "name": "stdout",
     "output_type": "stream",
     "text": [
      "Enter the number6\n",
      "[1, 2, 4, 8, 16, 32]\n"
     ]
    }
   ],
   "source": [
    "n = int(input(\"Enter the number\"))  # Change this to the desired number of powers\n",
    "output = [2 ** i for i in range(n)]\n",
    "\n",
    "print(output)\n"
   ]
  },
  {
   "cell_type": "markdown",
   "id": "c1d502ed",
   "metadata": {},
   "source": [
    "46. Find the longest string in a list of strings.\n"
   ]
  },
  {
   "cell_type": "code",
   "execution_count": 39,
   "id": "6af61bf3",
   "metadata": {},
   "outputs": [
    {
     "name": "stdout",
     "output_type": "stream",
     "text": [
      "The longest string is: strawberry\n"
     ]
    }
   ],
   "source": [
    "string_list = [\"apple\", \"banana\", \"kiwi\", \"strawberry\", \"orange\"]\n",
    "longest_string = max(string_list,key=len)\n",
    "\n",
    "print(\"The longest string is:\", longest_string)\n"
   ]
  },
  {
   "cell_type": "markdown",
   "id": "c58c79b3",
   "metadata": {},
   "source": [
    " 47.Find the shortest string in a list of strings"
   ]
  },
  {
   "cell_type": "code",
   "execution_count": 40,
   "id": "c7cf676b",
   "metadata": {},
   "outputs": [
    {
     "name": "stdout",
     "output_type": "stream",
     "text": [
      "The shortest string is: kiwi\n"
     ]
    }
   ],
   "source": [
    "string_list = [\"apple\", \"banana\", \"kiwi\", \"strawberry\", \"orange\"]\n",
    "shortest_string = min(string_list,key=len)\n",
    "\n",
    "print(\"The shortest string is:\", shortest_string)"
   ]
  },
  {
   "cell_type": "markdown",
   "id": "70b124b9",
   "metadata": {},
   "source": [
    "48. Create a list of the first `n` triangular numbers."
   ]
  },
  {
   "cell_type": "code",
   "execution_count": 108,
   "id": "a5116802",
   "metadata": {},
   "outputs": [
    {
     "name": "stdout",
     "output_type": "stream",
     "text": [
      "Enter the number6\n",
      "[1, 3, 6, 10, 15, 21]\n"
     ]
    }
   ],
   "source": [
    "n = int(input(\"Enter the number\")) # Change this to the desired number of triangular numbers\n",
    "triangular_numbers = []\n",
    "\n",
    "for i in range(1, n + 1):\n",
    "    triangular_numbers.append(i * (i + 1) // 2)\n",
    "\n",
    "print(triangular_numbers)\n"
   ]
  },
  {
   "cell_type": "markdown",
   "id": "cfbc043e",
   "metadata": {},
   "source": [
    "49. Check if a list contains another list as a subsequence."
   ]
  },
  {
   "cell_type": "code",
   "execution_count": 109,
   "id": "79017560",
   "metadata": {},
   "outputs": [
    {
     "name": "stdout",
     "output_type": "stream",
     "text": [
      "The subsequence is present.\n"
     ]
    }
   ],
   "source": [
    "main_list = [1, 2, 3, 4, 5, 6, 7, 8, 9, 10]\n",
    "subsequence = [3, 5, 7]\n",
    "\n",
    "subseq_index = 0\n",
    "\n",
    "for item in main_list:\n",
    "    if subseq_index < len(subsequence) and item == subsequence[subseq_index]:\n",
    "        subseq_index += 1\n",
    "\n",
    "if subseq_index == len(subsequence):\n",
    "    print(\"The subsequence is present.\")\n",
    "else:\n",
    "    print(\"The subsequence is not present.\")\n"
   ]
  },
  {
   "cell_type": "markdown",
   "id": "77245118",
   "metadata": {},
   "source": [
    "50. Swap two elements in a list by their indices.\n"
   ]
  },
  {
   "cell_type": "code",
   "execution_count": 112,
   "id": "b4031dca",
   "metadata": {},
   "outputs": [
    {
     "name": "stdout",
     "output_type": "stream",
     "text": [
      "[2, 1, 3, 4, 5]\n"
     ]
    }
   ],
   "source": [
    "a=[1,2,3,4,5]\n",
    "a[0],a[1]=a[1],a[0]\n",
    "print(a)"
   ]
  },
  {
   "cell_type": "markdown",
   "id": "100cfd5f",
   "metadata": {},
   "source": [
    "# Tuples"
   ]
  },
  {
   "cell_type": "markdown",
   "id": "9bd791c4",
   "metadata": {},
   "source": [
    "1. Create a tuple with integers from 1 to 5.\n"
   ]
  },
  {
   "cell_type": "code",
   "execution_count": 116,
   "id": "3a2af357",
   "metadata": {},
   "outputs": [
    {
     "name": "stdout",
     "output_type": "stream",
     "text": [
      "(1, 2, 3, 4, 5)\n"
     ]
    }
   ],
   "source": [
    "a=tuple(range(1,6))\n",
    "print(a)"
   ]
  },
  {
   "cell_type": "markdown",
   "id": "7bd8ad87",
   "metadata": {},
   "source": [
    "2. Access the third element of a tuple.\n"
   ]
  },
  {
   "cell_type": "code",
   "execution_count": 4,
   "id": "1e89b832",
   "metadata": {},
   "outputs": [
    {
     "name": "stdout",
     "output_type": "stream",
     "text": [
      "3\n"
     ]
    }
   ],
   "source": [
    "a=(1,2,3,4,5)\n",
    "print(a[2])"
   ]
  },
  {
   "cell_type": "markdown",
   "id": "88a3f9cc",
   "metadata": {},
   "source": [
    "3. Find the length of a tuple without using the `len()` function.\n"
   ]
  },
  {
   "cell_type": "code",
   "execution_count": 5,
   "id": "4d205ac7",
   "metadata": {},
   "outputs": [
    {
     "name": "stdout",
     "output_type": "stream",
     "text": [
      "Length: 5\n"
     ]
    }
   ],
   "source": [
    "my_tuple = (1, 2, 3, 4, 5)\n",
    "count = 0\n",
    "\n",
    "for i in my_tuple:\n",
    "    count += 1\n",
    "\n",
    "print(\"Length:\", count)\n"
   ]
  },
  {
   "cell_type": "markdown",
   "id": "919b325d",
   "metadata": {},
   "source": [
    "4. Count the occurrences of an element in a tuple."
   ]
  },
  {
   "cell_type": "code",
   "execution_count": 6,
   "id": "aeddf73d",
   "metadata": {},
   "outputs": [
    {
     "name": "stdout",
     "output_type": "stream",
     "text": [
      "The element 2 appears 3 times in the tuple.\n"
     ]
    }
   ],
   "source": [
    "my_tuple = (1, 2, 3, 2, 4, 2, 5)\n",
    "element_to_count = 2\n",
    "\n",
    "occurrences = my_tuple.count(element_to_count)\n",
    "print(f\"The element {element_to_count} appears {occurrences} times in the tuple.\")\n"
   ]
  },
  {
   "cell_type": "markdown",
   "id": "420e505f",
   "metadata": {},
   "source": [
    "5. Find the index of the first occurrence of an element in a tuple."
   ]
  },
  {
   "cell_type": "code",
   "execution_count": 7,
   "id": "4fa79d92",
   "metadata": {},
   "outputs": [
    {
     "name": "stdout",
     "output_type": "stream",
     "text": [
      "The first occurrence of 20 is at index 1.\n"
     ]
    }
   ],
   "source": [
    "my_tuple = (10, 20, 30, 20, 40, 50)\n",
    "element_to_find = 20\n",
    "\n",
    "index = my_tuple.index(element_to_find)\n",
    "print(f\"The first occurrence of {element_to_find} is at index {index}.\")\n"
   ]
  },
  {
   "cell_type": "markdown",
   "id": "be4438c3",
   "metadata": {},
   "source": [
    "6. Check if an element exists in a tuple.\n"
   ]
  },
  {
   "cell_type": "code",
   "execution_count": 8,
   "id": "ddd1b253",
   "metadata": {},
   "outputs": [
    {
     "name": "stdout",
     "output_type": "stream",
     "text": [
      "15 exists in the tuple.\n"
     ]
    }
   ],
   "source": [
    "my_tuple = (5, 10, 15, 20, 25)\n",
    "element_to_check = 15\n",
    "\n",
    "if element_to_check in my_tuple:\n",
    "    print(f\"{element_to_check} exists in the tuple.\")\n",
    "else:\n",
    "    print(f\"{element_to_check} does not exist in the tuple.\")\n"
   ]
  },
  {
   "cell_type": "markdown",
   "id": "1fb6b45b",
   "metadata": {},
   "source": [
    "7. Convert a tuple to a list.\n"
   ]
  },
  {
   "cell_type": "code",
   "execution_count": 9,
   "id": "d84fcf3c",
   "metadata": {},
   "outputs": [
    {
     "name": "stdout",
     "output_type": "stream",
     "text": [
      "[1, 2, 3, 4, 5]\n"
     ]
    }
   ],
   "source": [
    "a=(1,2,3,4,5)\n",
    "b=list(a)\n",
    "print(b)"
   ]
  },
  {
   "cell_type": "markdown",
   "id": "586e85c4",
   "metadata": {},
   "source": [
    "8.Convert List into Tuple"
   ]
  },
  {
   "cell_type": "code",
   "execution_count": 10,
   "id": "b1825a70",
   "metadata": {},
   "outputs": [
    {
     "name": "stdout",
     "output_type": "stream",
     "text": [
      "(1, 2, 3, 4, 5)\n"
     ]
    }
   ],
   "source": [
    "a=[1,2,3,4,5]\n",
    "b=tuple(a)\n",
    "print(b)"
   ]
  },
  {
   "cell_type": "markdown",
   "id": "559b70e3",
   "metadata": {},
   "source": [
    " 9.Unpack the elements of a tuple into variables"
   ]
  },
  {
   "cell_type": "code",
   "execution_count": 11,
   "id": "9837ccd5",
   "metadata": {},
   "outputs": [
    {
     "name": "stdout",
     "output_type": "stream",
     "text": [
      "Unpacked values:\n",
      "var1: 10\n",
      "var2: 20\n",
      "var3: 30\n"
     ]
    }
   ],
   "source": [
    "my_tuple = (10, 20, 30)\n",
    "var1, var2, var3 = my_tuple\n",
    "\n",
    "print(\"Unpacked values:\")\n",
    "print(\"var1:\", var1)\n",
    "print(\"var2:\", var2)\n",
    "print(\"var3:\", var3)\n"
   ]
  },
  {
   "cell_type": "markdown",
   "id": "8ecde0c9",
   "metadata": {},
   "source": [
    "10. Create a tuple of even numbers from 1 to 10."
   ]
  },
  {
   "cell_type": "code",
   "execution_count": 14,
   "id": "d111e912",
   "metadata": {},
   "outputs": [
    {
     "name": "stdout",
     "output_type": "stream",
     "text": [
      "(1, 3, 5, 7, 9)\n"
     ]
    }
   ],
   "source": [
    "a=tuple(range(2,11,2))\n",
    "print(a)"
   ]
  },
  {
   "cell_type": "markdown",
   "id": "080645e9",
   "metadata": {},
   "source": [
    "11.Create a tuple of odd numbers 1 to 10."
   ]
  },
  {
   "cell_type": "code",
   "execution_count": 16,
   "id": "a58f24a9",
   "metadata": {},
   "outputs": [
    {
     "name": "stdout",
     "output_type": "stream",
     "text": [
      "(1, 3, 5, 7, 9)\n"
     ]
    }
   ],
   "source": [
    "b=tuple(range(1,11,2))\n",
    "print(b)"
   ]
  },
  {
   "cell_type": "markdown",
   "id": "dc9553e8",
   "metadata": {},
   "source": [
    "12. Concatenate two tuples."
   ]
  },
  {
   "cell_type": "code",
   "execution_count": 17,
   "id": "3dba8fc9",
   "metadata": {},
   "outputs": [
    {
     "name": "stdout",
     "output_type": "stream",
     "text": [
      "(1, 2, 3, 4, 5, 6, 7, 8)\n"
     ]
    }
   ],
   "source": [
    "a=(1,2,3,4)\n",
    "b=(5,6,7,8)\n",
    "c=a+b\n",
    "print(c)"
   ]
  },
  {
   "cell_type": "markdown",
   "id": "a9d69b17",
   "metadata": {},
   "source": [
    "13. Repeat a tuple three times."
   ]
  },
  {
   "cell_type": "code",
   "execution_count": 18,
   "id": "0e97408c",
   "metadata": {},
   "outputs": [
    {
     "data": {
      "text/plain": [
       "(1, 2, 3, 1, 2, 3, 1, 2, 3)"
      ]
     },
     "execution_count": 18,
     "metadata": {},
     "output_type": "execute_result"
    }
   ],
   "source": [
    "a=(1,2,3)\n",
    "a*3"
   ]
  },
  {
   "cell_type": "markdown",
   "id": "a7acc121",
   "metadata": {},
   "source": [
    "14. Check if a tuple is empty."
   ]
  },
  {
   "cell_type": "code",
   "execution_count": 19,
   "id": "155f013c",
   "metadata": {},
   "outputs": [
    {
     "name": "stdout",
     "output_type": "stream",
     "text": [
      "Tuple is empty\n"
     ]
    }
   ],
   "source": [
    "a=()\n",
    "if len(a)==0:\n",
    "    print(\"Tuple is empty\")\n",
    "else:\n",
    "    print(\"Tuple is not empty\")"
   ]
  },
  {
   "cell_type": "markdown",
   "id": "4eb8d652",
   "metadata": {},
   "source": [
    "15. Create a nested tuple.\n"
   ]
  },
  {
   "cell_type": "code",
   "execution_count": 20,
   "id": "fcebad72",
   "metadata": {},
   "outputs": [
    {
     "name": "stdout",
     "output_type": "stream",
     "text": [
      "((1, 2, 3), (4, 5, 6), (7, 8, 9))\n"
     ]
    }
   ],
   "source": [
    "nested_tuple = ((1, 2, 3), (4, 5, 6), (7, 8, 9))\n",
    "print(nested_tuple)\n"
   ]
  },
  {
   "cell_type": "markdown",
   "id": "a6563740",
   "metadata": {},
   "source": [
    "16. Access the first element of a nested tuple.\n"
   ]
  },
  {
   "cell_type": "code",
   "execution_count": 21,
   "id": "4b21c08b",
   "metadata": {},
   "outputs": [
    {
     "name": "stdout",
     "output_type": "stream",
     "text": [
      "The first element of the nested tuple: 1\n"
     ]
    }
   ],
   "source": [
    "nested_tuple = ((1, 2, 3), (4, 5, 6), (7, 8, 9))\n",
    "first_element = nested_tuple[0][0]\n",
    "\n",
    "print(\"The first element of the nested tuple:\", first_element)\n"
   ]
  },
  {
   "cell_type": "markdown",
   "id": "f4da5ef1",
   "metadata": {},
   "source": [
    "17. Create a tuple with a single element.\n"
   ]
  },
  {
   "cell_type": "code",
   "execution_count": 22,
   "id": "ef4bdc7d",
   "metadata": {},
   "outputs": [
    {
     "name": "stdout",
     "output_type": "stream",
     "text": [
      "<class 'tuple'>\n"
     ]
    }
   ],
   "source": [
    "t=(1,)\n",
    "print(type(t))"
   ]
  },
  {
   "cell_type": "markdown",
   "id": "3d0ff7c8",
   "metadata": {},
   "source": [
    "18. Compare two tuples.\n"
   ]
  },
  {
   "cell_type": "code",
   "execution_count": 24,
   "id": "5ee6a3fe",
   "metadata": {},
   "outputs": [
    {
     "name": "stdout",
     "output_type": "stream",
     "text": [
      "tuple1 and tuple2 are equal\n"
     ]
    }
   ],
   "source": [
    "tuple1 = (1, 2, 3)\n",
    "tuple2 = (1, 2, 3)\n",
    "\n",
    "if tuple1 < tuple2:\n",
    "    print(\"tuple1 is less than tuple2\")\n",
    "elif tuple1 > tuple2:\n",
    "    print(\"tuple1 is greater than tuple2\")\n",
    "elif tuple1==tuple2:\n",
    "    print(\"tuple1 and tuple2 are equal\")\n",
    "else:\n",
    "    print('tuple1 and tuple2 are not related')\n"
   ]
  },
  {
   "cell_type": "markdown",
   "id": "bd52b3c1",
   "metadata": {},
   "source": [
    "19. Delete a tuple"
   ]
  },
  {
   "cell_type": "markdown",
   "id": "887290cb",
   "metadata": {},
   "source": [
    "a=(1,2,3,4)\n",
    "print(a)\n",
    "del a\n",
    "print(a)"
   ]
  },
  {
   "cell_type": "markdown",
   "id": "c2b8c8e8",
   "metadata": {},
   "source": [
    "20. Slice a tuple."
   ]
  },
  {
   "cell_type": "code",
   "execution_count": 34,
   "id": "160cf526",
   "metadata": {},
   "outputs": [
    {
     "name": "stdout",
     "output_type": "stream",
     "text": [
      "Original tuple: (1, 2, 3, 4, 5, 6, 7, 8, 9, 10)\n",
      "Sliced tuple: (3, 5)\n"
     ]
    }
   ],
   "source": [
    "original_tuple = (1, 2, 3, 4, 5, 6, 7, 8, 9, 10)\n",
    "\n",
    "# Slice from index 2 to index 5 (exclusive), step by 2\n",
    "sliced_tuple = original_tuple[2:5:2]\n",
    "\n",
    "print(\"Original tuple:\", original_tuple)\n",
    "print(\"Sliced tuple:\", sliced_tuple)\n"
   ]
  },
  {
   "cell_type": "markdown",
   "id": "68dca0ee",
   "metadata": {},
   "source": [
    "21. Find the maximum value in a tuple.\n"
   ]
  },
  {
   "cell_type": "code",
   "execution_count": 42,
   "id": "b8a7a5d3",
   "metadata": {},
   "outputs": [
    {
     "name": "stdout",
     "output_type": "stream",
     "text": [
      "The maximum value in the tuple is: 50\n"
     ]
    }
   ],
   "source": [
    "my_tuple = (10, 30, 20, 50, 40)\n",
    "\n",
    "max_value = max(my_tuple)\n",
    "print(\"The maximum value in the tuple is:\", max_value)\n"
   ]
  },
  {
   "cell_type": "markdown",
   "id": "377c6d3b",
   "metadata": {},
   "source": [
    "22.Find the minimum value in a tuple"
   ]
  },
  {
   "cell_type": "code",
   "execution_count": 43,
   "id": "4c5ee906",
   "metadata": {},
   "outputs": [
    {
     "name": "stdout",
     "output_type": "stream",
     "text": [
      "The minimum value in the tuple is: 10\n"
     ]
    }
   ],
   "source": [
    "my_tuple = (10, 30, 20, 50, 40)\n",
    "\n",
    "min_value = min(my_tuple)\n",
    "print(\"The minimum value in the tuple is:\", min_value)\n"
   ]
  },
  {
   "cell_type": "markdown",
   "id": "31fb4266",
   "metadata": {},
   "source": [
    "24. Convert a tuple of characters to a string.\n"
   ]
  },
  {
   "cell_type": "code",
   "execution_count": 44,
   "id": "28edfbad",
   "metadata": {},
   "outputs": [
    {
     "name": "stdout",
     "output_type": "stream",
     "text": [
      "Converted string: Hello\n"
     ]
    }
   ],
   "source": [
    "char_tuple = ('H', 'e', 'l', 'l', 'o')\n",
    "\n",
    "char_string = ''.join(char_tuple)\n",
    "print(\"Converted string:\", char_string)\n"
   ]
  },
  {
   "cell_type": "markdown",
   "id": "00b71b21",
   "metadata": {},
   "source": [
    "25. Create a tuple from multiple data types.\n"
   ]
  },
  {
   "cell_type": "code",
   "execution_count": 45,
   "id": "b03ed420",
   "metadata": {},
   "outputs": [
    {
     "name": "stdout",
     "output_type": "stream",
     "text": [
      "(10, 'Hello', 3.14, True)\n"
     ]
    }
   ],
   "source": [
    "mixed_tuple = (10, \"Hello\", 3.14, True)\n",
    "\n",
    "print(mixed_tuple)\n"
   ]
  },
  {
   "cell_type": "markdown",
   "id": "0992ab66",
   "metadata": {},
   "source": [
    "26. Check if two tuples are identical.\n"
   ]
  },
  {
   "cell_type": "code",
   "execution_count": 136,
   "id": "bf448716",
   "metadata": {},
   "outputs": [
    {
     "name": "stdout",
     "output_type": "stream",
     "text": [
      "tuple1 and tuple2 are identical.\n"
     ]
    }
   ],
   "source": [
    "tuple1 = (1, 2, 3)\n",
    "tuple2 = (1, 2, 3)\n",
    "if tuple1 == tuple2:\n",
    "    print(\"tuple1 and tuple2 are identical.\")\n",
    "else:\n",
    "    print(\"tuple1 and tuple2 are not identical.\")"
   ]
  },
  {
   "cell_type": "markdown",
   "id": "2f54d885",
   "metadata": {},
   "source": [
    "27. Sort the elements of a tuple."
   ]
  },
  {
   "cell_type": "code",
   "execution_count": 47,
   "id": "c6699395",
   "metadata": {},
   "outputs": [
    {
     "name": "stdout",
     "output_type": "stream",
     "text": [
      "Original tuple: (5, 2, 8, 1, 3)\n",
      "Sorted tuple: (1, 2, 3, 5, 8)\n"
     ]
    }
   ],
   "source": [
    "my_tuple = (5, 2, 8, 1, 3)\n",
    "sorted_list = sorted(my_tuple)\n",
    "sorted_tuple = tuple(sorted_list)\n",
    "\n",
    "print(\"Original tuple:\", my_tuple)\n",
    "print(\"Sorted tuple:\", sorted_tuple)\n"
   ]
  },
  {
   "cell_type": "markdown",
   "id": "f95e3893",
   "metadata": {},
   "source": [
    "28.Convert a tuple of integers to a tuple of strings.\n"
   ]
  },
  {
   "cell_type": "code",
   "execution_count": 48,
   "id": "dd301b04",
   "metadata": {},
   "outputs": [
    {
     "name": "stdout",
     "output_type": "stream",
     "text": [
      "Original tuple of integers: (1, 2, 3, 4, 5)\n",
      "Tuple of strings: ('1', '2', '3', '4', '5')\n"
     ]
    }
   ],
   "source": [
    "int_tuple = (1, 2, 3, 4, 5)\n",
    "str_tuple = tuple(str(item) for item in int_tuple)\n",
    "\n",
    "print(\"Original tuple of integers:\", int_tuple)\n",
    "print(\"Tuple of strings:\", str_tuple)\n"
   ]
  },
  {
   "cell_type": "markdown",
   "id": "e844a014",
   "metadata": {},
   "source": [
    "29. Convert a tuple of strings to a tuple of integers.\n"
   ]
  },
  {
   "cell_type": "code",
   "execution_count": 50,
   "id": "6501c99b",
   "metadata": {},
   "outputs": [
    {
     "name": "stdout",
     "output_type": "stream",
     "text": [
      "Original tuple of integers: ('1', '2', '3', '4', '5')\n",
      "Tuple of strings: (1, 2, 3, 4, 5)\n"
     ]
    }
   ],
   "source": [
    "str_tuple = ('1', '2', '3', '4', '5')\n",
    "int_tuple = tuple(int(item) for item in str_tuple)\n",
    "\n",
    "print(\"Original tuple of integers:\", str_tuple)\n",
    "print(\"Tuple of strings:\", int_tuple)\n"
   ]
  },
  {
   "cell_type": "markdown",
   "id": "f80263e2",
   "metadata": {},
   "source": [
    "30. Merge two tuples."
   ]
  },
  {
   "cell_type": "code",
   "execution_count": 51,
   "id": "be573836",
   "metadata": {},
   "outputs": [
    {
     "name": "stdout",
     "output_type": "stream",
     "text": [
      "Merged tuple: (1, 2, 3, 4, 5, 6)\n"
     ]
    }
   ],
   "source": [
    "tuple1 = (1, 2, 3)\n",
    "tuple2 = (4, 5, 6)\n",
    "\n",
    "merged_tuple = tuple1 + tuple2\n",
    "\n",
    "print(\"Merged tuple:\", merged_tuple)\n"
   ]
  },
  {
   "cell_type": "markdown",
   "id": "20acaee9",
   "metadata": {},
   "source": [
    " 31.Flatten a nested tuple."
   ]
  },
  {
   "cell_type": "code",
   "execution_count": 53,
   "id": "793b379e",
   "metadata": {},
   "outputs": [
    {
     "name": "stdout",
     "output_type": "stream",
     "text": [
      "(1, 2, 2, 3, 4, 5, 6, 7)\n"
     ]
    }
   ],
   "source": [
    "my_tuple = ((1,2), (2, 3),(4, 5, 6, 7))\n",
    "\n",
    "flat_tuple = sum(my_tuple, ())\n",
    "print(flat_tuple)"
   ]
  },
  {
   "cell_type": "markdown",
   "id": "c22bd655",
   "metadata": {},
   "source": [
    "32. Create a tuple of the first 5 prime numbers.\n"
   ]
  },
  {
   "cell_type": "code",
   "execution_count": 61,
   "id": "6106d138",
   "metadata": {},
   "outputs": [
    {
     "name": "stdout",
     "output_type": "stream",
     "text": [
      "(2, 3, 5)\n"
     ]
    }
   ],
   "source": [
    "noprimes = set(j for i in range(2, 4) for j in range(i*2, 50, i))\n",
    "primes = [x for x in range(2, 6) if x not in noprimes]\n",
    "#print(primes)\n",
    "print(tuple(primes))"
   ]
  },
  {
   "cell_type": "markdown",
   "id": "ff1efee7",
   "metadata": {},
   "source": [
    "33. Check if a tuple is a palindrome"
   ]
  },
  {
   "cell_type": "code",
   "execution_count": 62,
   "id": "a58c2757",
   "metadata": {},
   "outputs": [
    {
     "name": "stdout",
     "output_type": "stream",
     "text": [
      "True\n",
      "False\n"
     ]
    }
   ],
   "source": [
    "def is_palindrome_tuple(tup):\n",
    "    lst = list(tup)\n",
    "    start = 0\n",
    "    end = len(lst) - 1\n",
    "    \n",
    "    while start < end:\n",
    "        if lst[start] != lst[end]:\n",
    "            return False\n",
    "        start += 1\n",
    "        end -= 1\n",
    "        \n",
    "    return True\n",
    "\n",
    "# Test cases\n",
    "tuple1 = (1, 2, 3, 2, 1)\n",
    "tuple2 = (1, 2, 3, 4, 5)\n",
    "\n",
    "print(is_palindrome_tuple(tuple1))  # Output: True\n",
    "print(is_palindrome_tuple(tuple2))  # Output: False\n"
   ]
  },
  {
   "cell_type": "markdown",
   "id": "5abe920d",
   "metadata": {},
   "source": [
    "34. Create a tuple of squares of numbers from 1 to 5.\n"
   ]
  },
  {
   "cell_type": "code",
   "execution_count": 67,
   "id": "e3dcb69b",
   "metadata": {},
   "outputs": [
    {
     "name": "stdout",
     "output_type": "stream",
     "text": [
      "(1, 4, 9, 16, 25)\n"
     ]
    }
   ],
   "source": [
    "squares_tuple = (1**2, 2**2, 3**2, 4**2, 5**2)\n",
    "print(squares_tuple)\n"
   ]
  },
  {
   "cell_type": "markdown",
   "id": "eef89aae",
   "metadata": {},
   "source": [
    "35. Filter out all even numbers from a tuple"
   ]
  },
  {
   "cell_type": "code",
   "execution_count": 68,
   "id": "b1c5563c",
   "metadata": {},
   "outputs": [
    {
     "name": "stdout",
     "output_type": "stream",
     "text": [
      "(2, 4, 6, 8, 10)\n"
     ]
    }
   ],
   "source": [
    "original_tuple = (1, 2, 3, 4, 5, 6, 7, 8, 9, 10)\n",
    "\n",
    "even_numbers_tuple = tuple(x for x in original_tuple if x % 2 == 0)\n",
    "print(even_numbers_tuple)\n"
   ]
  },
  {
   "cell_type": "markdown",
   "id": "4362d2e0",
   "metadata": {},
   "source": [
    "36. Multiply all elements in a tuple by 2."
   ]
  },
  {
   "cell_type": "code",
   "execution_count": 72,
   "id": "c6a2db5a",
   "metadata": {},
   "outputs": [
    {
     "name": "stdout",
     "output_type": "stream",
     "text": [
      "(2, 4, 6, 8, 10)\n"
     ]
    }
   ],
   "source": [
    "original_tuple = (1, 2, 3, 4, 5)\n",
    "\n",
    "multiplied_tuple = tuple(x * 2 for x in original_tuple)\n",
    "print(multiplied_tuple)\n"
   ]
  },
  {
   "cell_type": "markdown",
   "id": "03ec7778",
   "metadata": {},
   "source": [
    "37. Create a tuple of random numbers.\n"
   ]
  },
  {
   "cell_type": "code",
   "execution_count": 74,
   "id": "892e61ec",
   "metadata": {},
   "outputs": [
    {
     "name": "stdout",
     "output_type": "stream",
     "text": [
      "(93, 78, 59, 23, 15)\n"
     ]
    }
   ],
   "source": [
    "import random\n",
    "\n",
    "random_tuple = tuple(random.randint(1, 100) for i in range(5))\n",
    "print(random_tuple)\n"
   ]
  },
  {
   "cell_type": "markdown",
   "id": "d94dc06a",
   "metadata": {},
   "source": [
    "38. Check if a tuple is sorted"
   ]
  },
  {
   "cell_type": "code",
   "execution_count": 75,
   "id": "2a28d834",
   "metadata": {},
   "outputs": [
    {
     "name": "stdout",
     "output_type": "stream",
     "text": [
      "True\n",
      "False\n"
     ]
    }
   ],
   "source": [
    "def is_sorted_tuple(tup):\n",
    "    for i in range(len(tup) - 1):\n",
    "        if tup[i] > tup[i + 1]:\n",
    "            return False\n",
    "    return True\n",
    "\n",
    "# Example tuples\n",
    "sorted_tuple = (1, 2, 3, 4, 5)\n",
    "unsorted_tuple = (3, 1, 4, 1, 5)\n",
    "\n",
    "print(is_sorted_tuple(sorted_tuple))    # Output: True\n",
    "print(is_sorted_tuple(unsorted_tuple))  # Output: False\n"
   ]
  },
  {
   "cell_type": "code",
   "execution_count": 76,
   "id": "03da7bbd",
   "metadata": {},
   "outputs": [
    {
     "name": "stdout",
     "output_type": "stream",
     "text": [
      "No, Tuple is not sorted.\n"
     ]
    }
   ],
   "source": [
    "# importing numpy library\n",
    "import numpy as np\n",
    "\n",
    "# initializing list\n",
    "test_tuple = (11, 4, 5, 8, 10)\n",
    "\n",
    "# convert list to numpy array\n",
    "test_arr = np.array(test_tuple)\n",
    "\n",
    "# check if the numpy array is sorted or not\n",
    "if np.all(np.diff(test_arr) >= 0):\n",
    "    print(\"Yes, Tuple is sorted.\")\n",
    "else:\n",
    "    print(\"No, Tuple is not sorted.\")\n"
   ]
  },
  {
   "cell_type": "markdown",
   "id": "42fa3a70",
   "metadata": {},
   "source": [
    "39. Rotate a tuple to the left by `n` positions."
   ]
  },
  {
   "cell_type": "code",
   "execution_count": 78,
   "id": "3348372b",
   "metadata": {},
   "outputs": [
    {
     "name": "stdout",
     "output_type": "stream",
     "text": [
      "Original tuple: (1, 2, 3, 4, 5)\n",
      "tuple rotated left by 2 positions: (3, 4, 5, 1, 2)\n"
     ]
    }
   ],
   "source": [
    "my_tuple = (1, 2, 3, 4, 5)\n",
    "n = 2\n",
    "\n",
    "n %= len(my_tuple)  # Handle cases where n is larger than the list length\n",
    "\n",
    "rotated_tuple = my_tuple[n:] + my_tuple[:n]\n",
    "\n",
    "print(\"Original tuple:\", my_tuple)\n",
    "print(f\"tuple rotated left by {n} positions:\", rotated_tuple)"
   ]
  },
  {
   "cell_type": "markdown",
   "id": "4679b2b5",
   "metadata": {},
   "source": [
    "40.Rotate a tuple to the right by 'n' positions"
   ]
  },
  {
   "cell_type": "code",
   "execution_count": 79,
   "id": "1aeb7336",
   "metadata": {},
   "outputs": [
    {
     "name": "stdout",
     "output_type": "stream",
     "text": [
      "Original tuple: (1, 2, 3, 4, 5)\n",
      "tuple rotated left by 2 positions: (4, 5, 1, 2, 3)\n"
     ]
    }
   ],
   "source": [
    "my_tuple = (1, 2, 3, 4, 5)\n",
    "n = 2\n",
    "\n",
    "n %= len(my_tuple)  # Handle cases where n is larger than the list length\n",
    "\n",
    "rotated_tuple = my_tuple[-n:] + my_tuple[:-n]\n",
    "\n",
    "print(\"Original tuple:\", my_tuple)\n",
    "print(f\"tuple rotated left by {n} positions:\", rotated_tuple)"
   ]
  },
  {
   "cell_type": "markdown",
   "id": "84e413a3",
   "metadata": {},
   "source": [
    "41. Create a tuple of the first 5 Fibonacci numbers.\n"
   ]
  },
  {
   "cell_type": "code",
   "execution_count": 81,
   "id": "4293081f",
   "metadata": {},
   "outputs": [
    {
     "name": "stdout",
     "output_type": "stream",
     "text": [
      "(0, 1, 1, 2, 3)\n"
     ]
    }
   ],
   "source": [
    "def generate_fibonacci(n):\n",
    "    fibonacci = [0, 1]\n",
    "    while len(fibonacci) < n:\n",
    "        next_num = fibonacci[-1] + fibonacci[-2]\n",
    "        fibonacci.append(next_num)\n",
    "    return tuple(fibonacci)\n",
    "\n",
    "first_five_fibonacci_tuple = generate_fibonacci(5)\n",
    "print(first_five_fibonacci_tuple)\n"
   ]
  },
  {
   "cell_type": "markdown",
   "id": "5c079732",
   "metadata": {},
   "source": [
    "42. Create a tuple from user input.\n"
   ]
  },
  {
   "cell_type": "code",
   "execution_count": 90,
   "id": "308e2147",
   "metadata": {},
   "outputs": [
    {
     "name": "stdout",
     "output_type": "stream",
     "text": [
      "(3, 5, 7, 23)\n"
     ]
    }
   ],
   "source": [
    " a= '3, 5, 7, 23'\n",
    "\n",
    "out = tuple(map(int, a.split(\",\")))\n",
    "\n",
    "print(out)\n",
    "\n",
    "#(3, 5, 7, 23)"
   ]
  },
  {
   "cell_type": "markdown",
   "id": "5190559a",
   "metadata": {},
   "source": [
    "43. Swap two elements in a tuple.\n"
   ]
  },
  {
   "cell_type": "code",
   "execution_count": 91,
   "id": "ce53dea2",
   "metadata": {},
   "outputs": [
    {
     "name": "stdout",
     "output_type": "stream",
     "text": [
      "Original tuple: (1, 2, 3, 4, 5)\n",
      "Swapped tuple: (1, 4, 3, 2, 5)\n"
     ]
    }
   ],
   "source": [
    "def swap_elements(tup, index1, index2):\n",
    "    # Convert the tuple to a list to modify it\n",
    "    list_representation = list(tup)\n",
    "    \n",
    "    # Swap the elements at the given indices\n",
    "    list_representation[index1], list_representation[index2] = list_representation[index2], list_representation[index1]\n",
    "    \n",
    "    # Convert the list back to a tuple\n",
    "    swapped_tuple = tuple(list_representation)\n",
    "    return swapped_tuple\n",
    "\n",
    "original_tuple = (1, 2, 3, 4, 5)\n",
    "index_to_swap = 1  # Indices are 0-based\n",
    "index_to_swap_with = 3\n",
    "\n",
    "swapped_tuple = swap_elements(original_tuple, index_to_swap, index_to_swap_with)\n",
    "print(\"Original tuple:\", original_tuple)\n",
    "print(\"Swapped tuple:\", swapped_tuple)\n"
   ]
  },
  {
   "cell_type": "markdown",
   "id": "c7dc3729",
   "metadata": {},
   "source": [
    "44. Reverse the elements of a tuple"
   ]
  },
  {
   "cell_type": "code",
   "execution_count": 96,
   "id": "1721ae36",
   "metadata": {},
   "outputs": [
    {
     "name": "stdout",
     "output_type": "stream",
     "text": [
      "Original tuple: (1, 2, 3, 4, 5)\n",
      "Reversed tuple: (5, 4, 3, 2, 1)\n"
     ]
    }
   ],
   "source": [
    "def reverse_tuple(tup):\n",
    "    reversed_tuple = tuple(reversed(tup))\n",
    "    return reversed_tuple\n",
    "\n",
    "original_tuple = (1, 2, 3, 4, 5)\n",
    "reversed_tuple = reverse_tuple(original_tuple)\n",
    "\n",
    "print(\"Original tuple:\", original_tuple)\n",
    "print(\"Reversed tuple:\", reversed_tuple)\n"
   ]
  },
  {
   "cell_type": "code",
   "execution_count": 98,
   "id": "584004ce",
   "metadata": {},
   "outputs": [
    {
     "name": "stdout",
     "output_type": "stream",
     "text": [
      "(1, 2, 3, 4, 5)\n",
      "(5, 4, 3, 2, 1)\n"
     ]
    }
   ],
   "source": [
    "tup=(1,2,3,4,5)\n",
    "b=tuple(reversed(tup))\n",
    "print(tup)\n",
    "print(b)"
   ]
  },
  {
   "cell_type": "markdown",
   "id": "9848073c",
   "metadata": {},
   "source": [
    "45. Create a tuple of the first `n` powers of 2.\n"
   ]
  },
  {
   "cell_type": "code",
   "execution_count": 101,
   "id": "521d79d6",
   "metadata": {},
   "outputs": [
    {
     "name": "stdout",
     "output_type": "stream",
     "text": [
      "Enter the value of n4\n",
      "(1, 2, 4, 8)\n"
     ]
    }
   ],
   "source": [
    "def powers_of_2(n):\n",
    "    return tuple(2 ** i for i in range(n))\n",
    "\n",
    "n = int(input(\"Enter the value of n\"))  # Number of powers of 2\n",
    "powers_tuple = powers_of_2(n)\n",
    "print(powers_tuple)\n"
   ]
  },
  {
   "cell_type": "markdown",
   "id": "df3c0060",
   "metadata": {},
   "source": [
    "46. Find the longest string in a tuple of strings.\n"
   ]
  },
  {
   "cell_type": "code",
   "execution_count": 104,
   "id": "d577d1de",
   "metadata": {},
   "outputs": [
    {
     "name": "stdout",
     "output_type": "stream",
     "text": [
      "The longest string is: strawberry\n"
     ]
    }
   ],
   "source": [
    "string_tuple = (\"apple\", \"banana\", \"kiwi\", \"strawberry\", \"orange\")\n",
    "longest_string = max(string_tuple,key=len)\n",
    "\n",
    "print(\"The longest string is:\", longest_string)"
   ]
  },
  {
   "cell_type": "markdown",
   "id": "693c4a91",
   "metadata": {},
   "source": [
    "47. Find the shortest string in a tuple of strings.\n"
   ]
  },
  {
   "cell_type": "code",
   "execution_count": 103,
   "id": "b851a032",
   "metadata": {},
   "outputs": [
    {
     "name": "stdout",
     "output_type": "stream",
     "text": [
      "The shortest string is: kiwi\n"
     ]
    }
   ],
   "source": [
    "string_tuple = (\"apple\", \"banana\", \"kiwi\", \"strawberry\", \"orange\")\n",
    "shortest_string = min(string_tuple,key=len)\n",
    "\n",
    "print(\"The shortest string is:\", shortest_string)"
   ]
  },
  {
   "cell_type": "markdown",
   "id": "807be50c",
   "metadata": {},
   "source": [
    "48. Create a tuple of the first `n` triangular numbers.\n"
   ]
  },
  {
   "cell_type": "code",
   "execution_count": 106,
   "id": "1a727359",
   "metadata": {},
   "outputs": [
    {
     "name": "stdout",
     "output_type": "stream",
     "text": [
      "Enter the value of n5\n",
      "(1, 3, 6, 10, 15)\n"
     ]
    }
   ],
   "source": [
    "def triangular_numbers(n):\n",
    "    return tuple(i * (i + 1) // 2 for i in range(1, n + 1))\n",
    "\n",
    "n = int(input(\"Enter the value of n\"))  # Number of triangular numbers\n",
    "triangular_tuple = triangular_numbers(n)\n",
    "print(triangular_tuple)\n"
   ]
  },
  {
   "cell_type": "markdown",
   "id": "bb13dd3e",
   "metadata": {},
   "source": [
    "49. Check if a tuple contains another tuple as a subsequence."
   ]
  },
  {
   "cell_type": "code",
   "execution_count": 107,
   "id": "69b0ab67",
   "metadata": {},
   "outputs": [
    {
     "name": "stdout",
     "output_type": "stream",
     "text": [
      "True\n"
     ]
    }
   ],
   "source": [
    "def is_subsequence(main_tuple, sub_tuple):\n",
    "    main_len = len(main_tuple)\n",
    "    sub_len = len(sub_tuple)\n",
    "\n",
    "    if sub_len > main_len:\n",
    "        return False\n",
    "\n",
    "    for i in range(main_len - sub_len + 1):\n",
    "        if main_tuple[i:i + sub_len] == sub_tuple:\n",
    "            return True\n",
    "\n",
    "    return False\n",
    "\n",
    "main_tuple = (1, 2, 3, 4, 5, 6, 7, 8)\n",
    "sub_tuple = (3, 4, 5)\n",
    "\n",
    "print(is_subsequence(main_tuple, sub_tuple))  # Output: True\n"
   ]
  },
  {
   "cell_type": "markdown",
   "id": "39b0d481",
   "metadata": {},
   "source": [
    "50. Create a tuple of alternating 1s and 0s of length `n`."
   ]
  },
  {
   "cell_type": "code",
   "execution_count": 109,
   "id": "e9972778",
   "metadata": {},
   "outputs": [
    {
     "name": "stdout",
     "output_type": "stream",
     "text": [
      "Enter the value of n6\n",
      "(1, 0, 1, 0, 1, 0)\n"
     ]
    }
   ],
   "source": [
    "def alternating_tuple(n):\n",
    "    return tuple(1 if i % 2 == 0 else 0 for i in range(n))\n",
    "\n",
    "n = int(input(\"Enter the value of n\")) # Length of the tuple\n",
    "alternating_ones_zeros = alternating_tuple(n)\n",
    "print(alternating_ones_zeros)\n"
   ]
  },
  {
   "cell_type": "markdown",
   "id": "59382b07",
   "metadata": {},
   "source": [
    "# Sets"
   ]
  },
  {
   "cell_type": "markdown",
   "id": "0d48e63d",
   "metadata": {},
   "source": [
    "1.Create a set with integers from 1 to 5.\n"
   ]
  },
  {
   "cell_type": "code",
   "execution_count": 111,
   "id": "912cdc6b",
   "metadata": {},
   "outputs": [
    {
     "name": "stdout",
     "output_type": "stream",
     "text": [
      "{1, 2, 3, 4, 5}\n"
     ]
    }
   ],
   "source": [
    "s={1,2,3,4,5}\n",
    "print(s)"
   ]
  },
  {
   "cell_type": "markdown",
   "id": "1cfdc342",
   "metadata": {},
   "source": [
    "2. Add an element to a set"
   ]
  },
  {
   "cell_type": "code",
   "execution_count": 112,
   "id": "eeb631b2",
   "metadata": {},
   "outputs": [
    {
     "data": {
      "text/plain": [
       "{1, 2, 3, 4, 5, 6}"
      ]
     },
     "execution_count": 112,
     "metadata": {},
     "output_type": "execute_result"
    }
   ],
   "source": [
    "s={1,2,3,4,5}\n",
    "s.add(6)\n",
    "s"
   ]
  },
  {
   "cell_type": "markdown",
   "id": "1be86cb9",
   "metadata": {},
   "source": [
    "3. Remove an element from a set."
   ]
  },
  {
   "cell_type": "code",
   "execution_count": 114,
   "id": "fc9a49a4",
   "metadata": {},
   "outputs": [
    {
     "data": {
      "text/plain": [
       "{2, 3, 4, 5}"
      ]
     },
     "execution_count": 114,
     "metadata": {},
     "output_type": "execute_result"
    }
   ],
   "source": [
    "s={1,2,3,4,5}\n",
    "s.pop()\n",
    "s"
   ]
  },
  {
   "cell_type": "markdown",
   "id": "a7bca650",
   "metadata": {},
   "source": [
    "4. Check if an element exists in a set."
   ]
  },
  {
   "cell_type": "code",
   "execution_count": 115,
   "id": "1b48ada5",
   "metadata": {},
   "outputs": [
    {
     "name": "stdout",
     "output_type": "stream",
     "text": [
      "3 exists in the set.\n"
     ]
    }
   ],
   "source": [
    "my_set = {1, 2, 3, 4, 5}\n",
    "\n",
    "element_to_check = 3\n",
    "if element_to_check in my_set:\n",
    "    print(f\"{element_to_check} exists in the set.\")\n",
    "else:\n",
    "    print(f\"{element_to_check} does not exist in the set.\")\n"
   ]
  },
  {
   "cell_type": "markdown",
   "id": "651930a3",
   "metadata": {},
   "source": [
    "5. Find the length of a set without using the `len()` function.\n"
   ]
  },
  {
   "cell_type": "code",
   "execution_count": 118,
   "id": "e152c3f1",
   "metadata": {},
   "outputs": [
    {
     "name": "stdout",
     "output_type": "stream",
     "text": [
      "Length of the set: 6\n"
     ]
    }
   ],
   "source": [
    "my_set = {1, 2, 3, 4, 5,6}\n",
    "length = sum(1 for i in my_set)\n",
    "print(\"Length of the set:\", length)\n"
   ]
  },
  {
   "cell_type": "markdown",
   "id": "90c16cd6",
   "metadata": {},
   "source": [
    "6. Clear all elements from a set."
   ]
  },
  {
   "cell_type": "code",
   "execution_count": 120,
   "id": "143bd43f",
   "metadata": {},
   "outputs": [
    {
     "data": {
      "text/plain": [
       "set()"
      ]
     },
     "execution_count": 120,
     "metadata": {},
     "output_type": "execute_result"
    }
   ],
   "source": [
    "s={1,2,3,4,5,6}\n",
    "s.clear()\n",
    "s"
   ]
  },
  {
   "cell_type": "markdown",
   "id": "adc94a91",
   "metadata": {},
   "source": [
    "7. Create a set of even numbers from 1 to 10.\n"
   ]
  },
  {
   "cell_type": "code",
   "execution_count": 121,
   "id": "ad31c5fd",
   "metadata": {},
   "outputs": [
    {
     "name": "stdout",
     "output_type": "stream",
     "text": [
      "{2, 4, 6, 8, 10}\n"
     ]
    }
   ],
   "source": [
    "even_numbers_set = {x for x in range(1, 11) if x % 2 == 0}\n",
    "print(even_numbers_set)\n"
   ]
  },
  {
   "cell_type": "markdown",
   "id": "88d0d947",
   "metadata": {},
   "source": [
    "8. Create a set of odd numbers from 1 to 10.\n"
   ]
  },
  {
   "cell_type": "code",
   "execution_count": 122,
   "id": "cc30667f",
   "metadata": {},
   "outputs": [
    {
     "name": "stdout",
     "output_type": "stream",
     "text": [
      "{1, 3, 5, 7, 9}\n"
     ]
    }
   ],
   "source": [
    "odd_numbers_set = {x for x in range(1, 11) if x % 2 == 1}\n",
    "print(odd_numbers_set)\n"
   ]
  },
  {
   "cell_type": "markdown",
   "id": "37e19645",
   "metadata": {},
   "source": [
    "9. Find the union of two sets."
   ]
  },
  {
   "cell_type": "markdown",
   "id": "ebee9922",
   "metadata": {},
   "source": [
    "s={1,2,3}\n",
    "d={4,5,6}\n",
    "e=s.union(d)\n",
    "print(e)"
   ]
  },
  {
   "cell_type": "markdown",
   "id": "7a7b34da",
   "metadata": {},
   "source": [
    "10. Find the intersection of two sets.\n"
   ]
  },
  {
   "cell_type": "code",
   "execution_count": 124,
   "id": "7b699902",
   "metadata": {},
   "outputs": [
    {
     "name": "stdout",
     "output_type": "stream",
     "text": [
      "{3}\n"
     ]
    }
   ],
   "source": [
    "s={1,2,3}\n",
    "d={3,5,6}\n",
    "e=s.intersection(d)\n",
    "print(e)"
   ]
  },
  {
   "cell_type": "markdown",
   "id": "aa025706",
   "metadata": {},
   "source": [
    "11. Find the difference between two sets."
   ]
  },
  {
   "cell_type": "code",
   "execution_count": 126,
   "id": "92cd506c",
   "metadata": {},
   "outputs": [
    {
     "name": "stdout",
     "output_type": "stream",
     "text": [
      "{1, 2}\n"
     ]
    }
   ],
   "source": [
    "s={1,2,3}\n",
    "d={3,5,6}\n",
    "e=s-(d)\n",
    "print(e)"
   ]
  },
  {
   "cell_type": "markdown",
   "id": "1a82366b",
   "metadata": {},
   "source": [
    "12. Check if a set is a subset of another set."
   ]
  },
  {
   "cell_type": "code",
   "execution_count": 127,
   "id": "e72e076f",
   "metadata": {},
   "outputs": [
    {
     "name": "stdout",
     "output_type": "stream",
     "text": [
      "Using issubset() method: True\n"
     ]
    }
   ],
   "source": [
    "set1 = {1, 2, 3, 4, 5}\n",
    "set2 = {3, 4}\n",
    "\n",
    "# Using issubset() method\n",
    "is_subset_method_result = set2.issubset(set1)\n",
    "print(\"Using issubset() method:\", is_subset_method_result)"
   ]
  },
  {
   "cell_type": "markdown",
   "id": "3ea73b64",
   "metadata": {},
   "source": [
    "13. Check if a set is a superset of another set"
   ]
  },
  {
   "cell_type": "code",
   "execution_count": 128,
   "id": "9720b9a2",
   "metadata": {},
   "outputs": [
    {
     "name": "stdout",
     "output_type": "stream",
     "text": [
      "Using issuperset() method: True\n"
     ]
    }
   ],
   "source": [
    "set1 = {1, 2, 3, 4, 5}\n",
    "set2 = {3, 4}\n",
    "\n",
    "# Using issuperset() method\n",
    "is_superset_method_result = set1.issuperset(set2)\n",
    "print(\"Using issuperset() method:\", is_superset_method_result)"
   ]
  },
  {
   "cell_type": "markdown",
   "id": "61457012",
   "metadata": {},
   "source": [
    "14. Create a set from a list."
   ]
  },
  {
   "cell_type": "code",
   "execution_count": 134,
   "id": "6c5ad64b",
   "metadata": {},
   "outputs": [
    {
     "name": "stdout",
     "output_type": "stream",
     "text": [
      "{1, 2, 3, 'seeker', 7.5}\n"
     ]
    }
   ],
   "source": [
    "# a is defined list\n",
    "a = [1,2,3,'seeker',3,7.5]\n",
    "t = {x for x in a} # set comprehension\n",
    "print(t)\n"
   ]
  },
  {
   "cell_type": "markdown",
   "id": "f1855cbe",
   "metadata": {},
   "source": [
    "15.Create a list from set"
   ]
  },
  {
   "cell_type": "code",
   "execution_count": 137,
   "id": "02cc3ce7",
   "metadata": {},
   "outputs": [
    {
     "name": "stdout",
     "output_type": "stream",
     "text": [
      "[1, 2, 3]\n"
     ]
    }
   ],
   "source": [
    "s={1,2,3}\n",
    "b=list(s)\n",
    "print(b)"
   ]
  },
  {
   "cell_type": "markdown",
   "id": "b1a21424",
   "metadata": {},
   "source": [
    "16. Remove a random element from a set.\n"
   ]
  },
  {
   "cell_type": "code",
   "execution_count": 141,
   "id": "22f5401e",
   "metadata": {},
   "outputs": [
    {
     "name": "stdout",
     "output_type": "stream",
     "text": [
      "Removed element: 1\n",
      "Updated set: {2, 3, 4, 5}\n"
     ]
    }
   ],
   "source": [
    "my_set = {1, 2, 3, 4, 5}\n",
    "\n",
    "if my_set:\n",
    "    removed_element = my_set.pop()\n",
    "    print(\"Removed element:\", removed_element)\n",
    "    print(\"Updated set:\", my_set)\n",
    "else:\n",
    "    print(\"Set is empty.\")\n"
   ]
  },
  {
   "cell_type": "markdown",
   "id": "214ad7a2",
   "metadata": {},
   "source": [
    "17. Pop an element from a set"
   ]
  },
  {
   "cell_type": "code",
   "execution_count": 142,
   "id": "0ead91d0",
   "metadata": {},
   "outputs": [
    {
     "data": {
      "text/plain": [
       "{2, 3, 4, 5}"
      ]
     },
     "execution_count": 142,
     "metadata": {},
     "output_type": "execute_result"
    }
   ],
   "source": [
    "s={1,2,3,4,5}\n",
    "s.pop()\n",
    "s"
   ]
  },
  {
   "cell_type": "markdown",
   "id": "da7bfb80",
   "metadata": {},
   "source": [
    "18. Check if two sets have no elements in common.\n"
   ]
  },
  {
   "cell_type": "code",
   "execution_count": 143,
   "id": "0253b70a",
   "metadata": {},
   "outputs": [
    {
     "name": "stdout",
     "output_type": "stream",
     "text": [
      "There are no elements in common\n"
     ]
    }
   ],
   "source": [
    "s1={1,2,3}\n",
    "s2={4,5,6}\n",
    "if s1.intersection(s2)==True:\n",
    "    print(\"There are few elements in common\")\n",
    "else:\n",
    "    print(\"There are no elements in common\")"
   ]
  },
  {
   "cell_type": "markdown",
   "id": "074cbc71",
   "metadata": {},
   "source": [
    "19. Find the symmetric difference between two sets."
   ]
  },
  {
   "cell_type": "code",
   "execution_count": 144,
   "id": "0056f339",
   "metadata": {},
   "outputs": [
    {
     "name": "stdout",
     "output_type": "stream",
     "text": [
      "{1, 2, 5, 6}\n"
     ]
    }
   ],
   "source": [
    "set1 = {1, 2, 3, 4}\n",
    "set2 = {3, 4, 5, 6}\n",
    "\n",
    "symmetric_diff = set1.symmetric_difference(set2)\n",
    "print(symmetric_diff)  # Output: {1, 2, 5, 6}\n"
   ]
  },
  {
   "cell_type": "markdown",
   "id": "03fbba2e",
   "metadata": {},
   "source": [
    "20. Update a set with elements from another set.\n"
   ]
  },
  {
   "cell_type": "code",
   "execution_count": 145,
   "id": "1946da68",
   "metadata": {},
   "outputs": [
    {
     "name": "stdout",
     "output_type": "stream",
     "text": [
      "{1, 2, 3, 4, 5}\n"
     ]
    }
   ],
   "source": [
    "set1 = {1, 2, 3}\n",
    "set2 = {3, 4, 5}\n",
    "\n",
    "set1.update(set2)\n",
    "print(set1)  # Output: {1, 2, 3, 4, 5}\n"
   ]
  },
  {
   "cell_type": "markdown",
   "id": "404d0fd3",
   "metadata": {},
   "source": [
    "21. Create a set of the first 5 prime numbers.\n"
   ]
  },
  {
   "cell_type": "code",
   "execution_count": 148,
   "id": "e4791ba0",
   "metadata": {},
   "outputs": [
    {
     "name": "stdout",
     "output_type": "stream",
     "text": [
      "{2, 3, 5}\n"
     ]
    }
   ],
   "source": [
    "primes = {num for num in range(1, 6) if all(num % i != 0 for i in range(2, int(num**0.5) + 1)) and num > 1}\n",
    "print(primes)"
   ]
  },
  {
   "cell_type": "markdown",
   "id": "b104c1ac",
   "metadata": {},
   "source": [
    "22. Check if two sets are identical."
   ]
  },
  {
   "cell_type": "code",
   "execution_count": 149,
   "id": "03542441",
   "metadata": {},
   "outputs": [
    {
     "name": "stdout",
     "output_type": "stream",
     "text": [
      "The sets are identical.\n"
     ]
    }
   ],
   "source": [
    "set1 = {1, 2, 3}\n",
    "set2 = {3, 2, 1}\n",
    "\n",
    "if set1 == set2:\n",
    "    print(\"The sets are identical.\")\n",
    "else:\n",
    "    print(\"The sets are not identical.\")\n"
   ]
  },
  {
   "cell_type": "markdown",
   "id": "479de814",
   "metadata": {},
   "source": [
    "23. Create a frozen set."
   ]
  },
  {
   "cell_type": "code",
   "execution_count": 150,
   "id": "edd6f70d",
   "metadata": {},
   "outputs": [
    {
     "name": "stdout",
     "output_type": "stream",
     "text": [
      "frozenset({1, 2, 3, 4, 5})\n"
     ]
    }
   ],
   "source": [
    "elements = [1, 2, 3, 4, 5]\n",
    "frozen_set = frozenset(elements)\n",
    "\n",
    "print(frozen_set)\n"
   ]
  },
  {
   "cell_type": "markdown",
   "id": "5903990f",
   "metadata": {},
   "source": [
    "24.Check if a set is disjoint with another set."
   ]
  },
  {
   "cell_type": "code",
   "execution_count": 151,
   "id": "0d954d8d",
   "metadata": {},
   "outputs": [
    {
     "name": "stdout",
     "output_type": "stream",
     "text": [
      "The sets are disjoint.\n"
     ]
    }
   ],
   "source": [
    "set1 = {1, 2, 3}\n",
    "set2 = {4, 5, 6}\n",
    "\n",
    "if set1.isdisjoint(set2):\n",
    "    print(\"The sets are disjoint.\")\n",
    "else:\n",
    "    print(\"The sets have some elements in common.\")\n"
   ]
  },
  {
   "cell_type": "markdown",
   "id": "17b5c02b",
   "metadata": {},
   "source": [
    "25. Create a set of squares of numbers from 1 to 5."
   ]
  },
  {
   "cell_type": "code",
   "execution_count": 152,
   "id": "ec62c9e8",
   "metadata": {},
   "outputs": [
    {
     "name": "stdout",
     "output_type": "stream",
     "text": [
      "{1, 4, 9, 16, 25}\n"
     ]
    }
   ],
   "source": [
    "squares_set = {x ** 2 for x in range(1, 6)}\n",
    "print(squares_set)\n"
   ]
  },
  {
   "cell_type": "markdown",
   "id": "123005a9",
   "metadata": {},
   "source": [
    "26. Filter out all even numbers from a set."
   ]
  },
  {
   "cell_type": "code",
   "execution_count": 154,
   "id": "37397a04",
   "metadata": {},
   "outputs": [
    {
     "name": "stdout",
     "output_type": "stream",
     "text": [
      "{2, 4, 6, 8, 10}\n"
     ]
    }
   ],
   "source": [
    "original_set = {1, 2, 3, 4, 5, 6, 7, 8, 9, 10}\n",
    "\n",
    "filtered_set = {x for x in original_set if x % 2 != 1}\n",
    "\n",
    "print(filtered_set)\n"
   ]
  },
  {
   "cell_type": "markdown",
   "id": "e60fd4d7",
   "metadata": {},
   "source": [
    "27. Multiply all elements in a set by 2.\n"
   ]
  },
  {
   "cell_type": "code",
   "execution_count": 155,
   "id": "1e18decb",
   "metadata": {},
   "outputs": [
    {
     "name": "stdout",
     "output_type": "stream",
     "text": [
      "{2, 4, 6, 8, 10}\n"
     ]
    }
   ],
   "source": [
    "original_set = {1, 2, 3, 4, 5}\n",
    "\n",
    "multiplied_set = {x * 2 for x in original_set}\n",
    "\n",
    "print(multiplied_set)\n"
   ]
  },
  {
   "cell_type": "markdown",
   "id": "b185b8b8",
   "metadata": {},
   "source": [
    "28. Create a set of random numbers."
   ]
  },
  {
   "cell_type": "code",
   "execution_count": 158,
   "id": "e4aa8464",
   "metadata": {},
   "outputs": [
    {
     "name": "stdout",
     "output_type": "stream",
     "text": [
      "{66, 40, 75, 83, 20, 53, 19, 23, 91, 30}\n"
     ]
    }
   ],
   "source": [
    "import random\n",
    "\n",
    "random_set = {random.randint(1, 100) for i in range(10)}\n",
    "\n",
    "print(random_set)\n"
   ]
  },
  {
   "cell_type": "markdown",
   "id": "8681e9da",
   "metadata": {},
   "source": [
    "29. Check if a set is empty."
   ]
  },
  {
   "cell_type": "code",
   "execution_count": 162,
   "id": "4b7651a9",
   "metadata": {},
   "outputs": [
    {
     "name": "stdout",
     "output_type": "stream",
     "text": [
      "set is empty\n"
     ]
    }
   ],
   "source": [
    "set={}\n",
    "if set=={}:\n",
    "    print(\"set is empty\")\n",
    "else:\n",
    "    print(\"set is not empty\")"
   ]
  },
  {
   "cell_type": "markdown",
   "id": "189d8b15",
   "metadata": {},
   "source": [
    "30. Create a nested set (hint: use frozenset)."
   ]
  },
  {
   "cell_type": "code",
   "execution_count": 163,
   "id": "7609eec3",
   "metadata": {},
   "outputs": [
    {
     "name": "stdout",
     "output_type": "stream",
     "text": [
      "{frozenset({1, 2, 3}), frozenset({4, 5, 6}), frozenset({8, 9, 7})}\n"
     ]
    }
   ],
   "source": [
    "nested_set = {\n",
    "    frozenset({1, 2, 3}),\n",
    "    frozenset({4, 5, 6}),\n",
    "    frozenset({7, 8, 9})\n",
    "}\n",
    "\n",
    "print(nested_set)\n"
   ]
  },
  {
   "cell_type": "markdown",
   "id": "e06d486c",
   "metadata": {},
   "source": [
    "31. Remove an element from a set using the discard method.\n"
   ]
  },
  {
   "cell_type": "code",
   "execution_count": 166,
   "id": "aaaf0b05",
   "metadata": {},
   "outputs": [
    {
     "data": {
      "text/plain": [
       "{4, 5, 6, 234}"
      ]
     },
     "execution_count": 166,
     "metadata": {},
     "output_type": "execute_result"
    }
   ],
   "source": [
    "s={4,5,6,43,234}\n",
    "s.discard(43)\n",
    "s"
   ]
  },
  {
   "cell_type": "markdown",
   "id": "8838e26c",
   "metadata": {},
   "source": [
    "32. Compare two sets."
   ]
  },
  {
   "cell_type": "code",
   "execution_count": 167,
   "id": "4ed7b0d4",
   "metadata": {},
   "outputs": [
    {
     "name": "stdout",
     "output_type": "stream",
     "text": [
      "The sets are equal.\n"
     ]
    }
   ],
   "source": [
    "set1 = {1, 2, 3}\n",
    "set2 = {3, 2, 1}\n",
    "\n",
    "if set1 == set2:\n",
    "    print(\"The sets are equal.\")\n",
    "else:\n",
    "    print(\"The sets are not equal.\")\n"
   ]
  },
  {
   "cell_type": "markdown",
   "id": "0976d1e9",
   "metadata": {},
   "source": [
    "33. Create a set from a string.\n"
   ]
  },
  {
   "cell_type": "code",
   "execution_count": 171,
   "id": "c0373131",
   "metadata": {},
   "outputs": [
    {
     "name": "stdout",
     "output_type": "stream",
     "text": [
      "{'e', 'h', 'l', 'o'}\n"
     ]
    }
   ],
   "source": [
    "my_string = \"hello\"\n",
    "my_set = {char for char in my_string}\n",
    "\n",
    "print(my_set)\n"
   ]
  },
  {
   "cell_type": "markdown",
   "id": "19300335",
   "metadata": {},
   "source": [
    "34. Convert a set of strings to a set of integers"
   ]
  },
  {
   "cell_type": "code",
   "execution_count": 172,
   "id": "54fb1be9",
   "metadata": {},
   "outputs": [
    {
     "name": "stdout",
     "output_type": "stream",
     "text": [
      "{10, 20, 30}\n"
     ]
    }
   ],
   "source": [
    "string_set = {\"10\", \"20\", \"30\"}\n",
    "int_set = {int(item) for item in string_set}\n",
    "\n",
    "print(int_set)\n"
   ]
  },
  {
   "cell_type": "markdown",
   "id": "3df9d14d",
   "metadata": {},
   "source": [
    "35. Convert a set of integers to a set of strings."
   ]
  },
  {
   "cell_type": "code",
   "execution_count": 173,
   "id": "ba6a1705",
   "metadata": {},
   "outputs": [
    {
     "name": "stdout",
     "output_type": "stream",
     "text": [
      "{'30', '20', '10'}\n"
     ]
    }
   ],
   "source": [
    "int_set = {10, 20, 30}\n",
    "string_set = {str(item) for item in int_set}\n",
    "\n",
    "print(string_set)\n"
   ]
  },
  {
   "cell_type": "markdown",
   "id": "fce2097c",
   "metadata": {},
   "source": [
    "36. Create a set from a tuple."
   ]
  },
  {
   "cell_type": "code",
   "execution_count": 177,
   "id": "25e3adf4",
   "metadata": {},
   "outputs": [
    {
     "name": "stdout",
     "output_type": "stream",
     "text": [
      "{1, 2, 3, 4, 5}\n"
     ]
    }
   ],
   "source": [
    "my_tuple = (1, 2, 3, 4, 5)\n",
    "my_set = {item for item in my_tuple}\n",
    "\n",
    "print(my_set)\n"
   ]
  },
  {
   "cell_type": "markdown",
   "id": "57cd4d86",
   "metadata": {},
   "source": [
    "37. Convert a set to a tuple."
   ]
  },
  {
   "cell_type": "code",
   "execution_count": 179,
   "id": "296e472d",
   "metadata": {},
   "outputs": [
    {
     "name": "stdout",
     "output_type": "stream",
     "text": [
      "(1, 2, 3, 4, 5)\n"
     ]
    }
   ],
   "source": [
    "s={1,2,3,4,5}\n",
    "d=tuple(s)\n",
    "print(d)"
   ]
  },
  {
   "cell_type": "markdown",
   "id": "8d28e017",
   "metadata": {},
   "source": [
    "38. Find the maximum value in a set."
   ]
  },
  {
   "cell_type": "code",
   "execution_count": 182,
   "id": "aed4fc05",
   "metadata": {},
   "outputs": [
    {
     "name": "stdout",
     "output_type": "stream",
     "text": [
      "The Longest string is: strawberry\n"
     ]
    }
   ],
   "source": [
    "string_set = {\"apple\", \"banana\", \"kiwi\", \"strawberry\", \"orange\"}\n",
    "longest_string = max(string_list,key=len)\n",
    "\n",
    "print(\"The Longest string is:\", longest_string)"
   ]
  },
  {
   "cell_type": "markdown",
   "id": "19c58cbb",
   "metadata": {},
   "source": [
    "39. Find the minimum value in a set."
   ]
  },
  {
   "cell_type": "code",
   "execution_count": 183,
   "id": "afca585f",
   "metadata": {},
   "outputs": [
    {
     "name": "stdout",
     "output_type": "stream",
     "text": [
      "The Shortest string is: kiwi\n"
     ]
    }
   ],
   "source": [
    "string_set = {\"apple\", \"banana\", \"kiwi\", \"strawberry\", \"orange\"}\n",
    "Shortest_string = min(string_list,key=len)\n",
    "\n",
    "print(\"The Shortest string is:\", Shortest_string)"
   ]
  },
  {
   "cell_type": "markdown",
   "id": "0997780d",
   "metadata": {},
   "source": [
    "40.Create a set from user input"
   ]
  },
  {
   "cell_type": "code",
   "execution_count": 184,
   "id": "64e5fe57",
   "metadata": {},
   "outputs": [
    {
     "name": "stdout",
     "output_type": "stream",
     "text": [
      "Enter the set value{1,2,3,4}\n"
     ]
    }
   ],
   "source": [
    "s=input(\"Enter the set value\")"
   ]
  },
  {
   "cell_type": "markdown",
   "id": "350868e7",
   "metadata": {},
   "source": [
    "41. Check if the intersection of two sets is empty.\n"
   ]
  },
  {
   "cell_type": "code",
   "execution_count": 188,
   "id": "99e4783b",
   "metadata": {},
   "outputs": [
    {
     "name": "stdout",
     "output_type": "stream",
     "text": [
      "The intersection is empty.\n"
     ]
    }
   ],
   "source": [
    "set1 = {1, 2, 3}\n",
    "set2 = {4, 5, 6}\n",
    "\n",
    "intersection = set1.intersection(set2)\n",
    "\n",
    "if len(intersection) == 0:\n",
    "    print(\"The intersection is empty.\")\n",
    "else:\n",
    "    print(\"The intersection is not empty.\")\n"
   ]
  },
  {
   "cell_type": "markdown",
   "id": "928d3e4e",
   "metadata": {},
   "source": [
    "42. Create a set of the first 5 Fibonacci numbers.\n"
   ]
  },
  {
   "cell_type": "code",
   "execution_count": 1,
   "id": "8177100f",
   "metadata": {},
   "outputs": [
    {
     "name": "stdout",
     "output_type": "stream",
     "text": [
      "fibonacci num: [0, 1, 1, 2, 3, 5]\n"
     ]
    },
    {
     "data": {
      "text/plain": [
       "{0, 1, 2, 3, 5}"
      ]
     },
     "execution_count": 1,
     "metadata": {},
     "output_type": "execute_result"
    }
   ],
   "source": [
    "s=set()\n",
    "n=0\n",
    "sum=[]\n",
    "while n<=5:\n",
    "    if(n==0 or n==1):\n",
    "        sum.append(n)\n",
    "        n=n+1\n",
    "    else:\n",
    "        sum.append(sum[n-1]+sum[n-2])\n",
    "        n=n+1\n",
    "print(\"fibonacci num:\",sum)\n",
    "for i in sum:\n",
    "    s.add(i)\n",
    "s"
   ]
  },
  {
   "cell_type": "markdown",
   "id": "f2261e6b",
   "metadata": {},
   "source": [
    "43. Remove duplicates from a list using sets.\n"
   ]
  },
  {
   "cell_type": "code",
   "execution_count": 2,
   "id": "cc308050",
   "metadata": {},
   "outputs": [
    {
     "name": "stdout",
     "output_type": "stream",
     "text": [
      "{1, 2, 3, 4, 5}\n"
     ]
    }
   ],
   "source": [
    "a=[1,1,1,2,3,4,5]\n",
    "b=tuple(a)\n",
    "c=set(b)\n",
    "print(c)"
   ]
  },
  {
   "cell_type": "markdown",
   "id": "66aa04dc",
   "metadata": {},
   "source": [
    "44. Check if two sets have the same elements, regardless of their count."
   ]
  },
  {
   "cell_type": "code",
   "execution_count": 197,
   "id": "181d87f3",
   "metadata": {},
   "outputs": [
    {
     "name": "stdout",
     "output_type": "stream",
     "text": [
      "The sets have the same elements.\n"
     ]
    }
   ],
   "source": [
    "set1 = {1, 2, 3}\n",
    "set2 = {3, 2, 1, 1}\n",
    "\n",
    "if set1 == set2:\n",
    "    print(\"The sets have the same elements.\")\n",
    "else:\n",
    "    print(\"The sets do not have the same elements.\")\n"
   ]
  },
  {
   "cell_type": "markdown",
   "id": "bee914ba",
   "metadata": {},
   "source": [
    "45. Create a set of the first `n` powers of 2.\n"
   ]
  },
  {
   "cell_type": "code",
   "execution_count": 203,
   "id": "88499cf1",
   "metadata": {},
   "outputs": [
    {
     "name": "stdout",
     "output_type": "stream",
     "text": [
      "{32, 1, 2, 64, 4, 128, 8, 16}\n"
     ]
    }
   ],
   "source": [
    "n = 8\n",
    "powers_of_2_set = {2 ** i for i in range(n)}\n",
    "\n",
    "print(powers_of_2_set)\n"
   ]
  },
  {
   "cell_type": "markdown",
   "id": "0ae85fcb",
   "metadata": {},
   "source": [
    "46. Find the common elements between a set and a list"
   ]
  },
  {
   "cell_type": "code",
   "execution_count": 204,
   "id": "06609137",
   "metadata": {},
   "outputs": [
    {
     "name": "stdout",
     "output_type": "stream",
     "text": [
      "{3, 4, 5}\n"
     ]
    }
   ],
   "source": [
    "my_set = {1, 2, 3, 4, 5}\n",
    "my_list = [3, 4, 5, 6, 7]\n",
    "\n",
    "common_elements = my_set.intersection(my_list)\n",
    "print(common_elements)  # Output: {3, 4, 5}\n"
   ]
  },
  {
   "cell_type": "markdown",
   "id": "6a251dcd",
   "metadata": {},
   "source": [
    "47. Create a set of the first `n` triangular numbers"
   ]
  },
  {
   "cell_type": "code",
   "execution_count": 3,
   "id": "0707cbfb",
   "metadata": {},
   "outputs": [
    {
     "name": "stdout",
     "output_type": "stream",
     "text": [
      "{1, 3, 6, 10, 15}\n"
     ]
    }
   ],
   "source": [
    "n = 5\n",
    "ad =set()\n",
    "current_sum = 0\n",
    "\n",
    "for i in range(1, n + 1):\n",
    "    current_sum += i\n",
    "    ad.add(current_sum)\n",
    "\n",
    "print(ad)\n"
   ]
  },
  {
   "cell_type": "markdown",
   "id": "03c5ae02",
   "metadata": {},
   "source": [
    "48. Check if a set contains another set as a subset."
   ]
  },
  {
   "cell_type": "code",
   "execution_count": 208,
   "id": "d96b869a",
   "metadata": {},
   "outputs": [
    {
     "name": "stdout",
     "output_type": "stream",
     "text": [
      "set2 is a subset of set1.\n"
     ]
    }
   ],
   "source": [
    "set1 = {1, 2, 3, 4, 5}\n",
    "set2 = {2, 3}\n",
    "\n",
    "if set2.issubset(set1):\n",
    "    print(\"set2 is a subset of set1.\")\n",
    "else:\n",
    "    print(\"set2 is not a subset of set1.\")\n"
   ]
  },
  {
   "cell_type": "markdown",
   "id": "15a383fb",
   "metadata": {},
   "source": [
    "49. Create a set of alternating 1s and 0s of length `n`."
   ]
  },
  {
   "cell_type": "code",
   "execution_count": 209,
   "id": "a059fe74",
   "metadata": {},
   "outputs": [
    {
     "name": "stdout",
     "output_type": "stream",
     "text": [
      "{0, 1}\n"
     ]
    }
   ],
   "source": [
    "n = 10\n",
    "alternating_set = {i % 2 for i in range(n)}\n",
    "\n",
    "print(alternating_set)\n"
   ]
  },
  {
   "cell_type": "markdown",
   "id": "98246de5",
   "metadata": {},
   "source": [
    "50. Merge multiple sets into one."
   ]
  },
  {
   "cell_type": "code",
   "execution_count": 210,
   "id": "d5433a12",
   "metadata": {},
   "outputs": [
    {
     "name": "stdout",
     "output_type": "stream",
     "text": [
      "{1, 2, 3, 4, 5, 6, 7}\n"
     ]
    }
   ],
   "source": [
    "set1 = {1, 2, 3}\n",
    "set2 = {3, 4, 5}\n",
    "set3 = {5, 6, 7}\n",
    "\n",
    "merged_set = set1.union(set2, set3)\n",
    "\n",
    "print(merged_set)\n"
   ]
  },
  {
   "cell_type": "code",
   "execution_count": null,
   "id": "ec4e9447",
   "metadata": {},
   "outputs": [],
   "source": []
  }
 ],
 "metadata": {
  "kernelspec": {
   "display_name": "Python 3 (ipykernel)",
   "language": "python",
   "name": "python3"
  },
  "language_info": {
   "codemirror_mode": {
    "name": "ipython",
    "version": 3
   },
   "file_extension": ".py",
   "mimetype": "text/x-python",
   "name": "python",
   "nbconvert_exporter": "python",
   "pygments_lexer": "ipython3",
   "version": "3.10.9"
  }
 },
 "nbformat": 4,
 "nbformat_minor": 5
}
